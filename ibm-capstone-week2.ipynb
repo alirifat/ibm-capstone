{
 "cells": [
  {
   "cell_type": "markdown",
   "metadata": {},
   "source": [
    "# IBM Capstone\n",
    "___\n",
    "Prepared by [Ali Rifat Kaya](https://www.linkedin.com/in/alirifatkaya/)\n",
    "___"
   ]
  },
  {
   "cell_type": "code",
   "execution_count": 56,
   "metadata": {
    "ExecuteTime": {
     "end_time": "2020-11-01T20:49:51.816822Z",
     "start_time": "2020-11-01T20:49:51.801192Z"
    },
    "scrolled": true
   },
   "outputs": [],
   "source": [
    "from collections import Counter\n",
    "import pandas as pd\n",
    "import numpy as np\n",
    "import matplotlib.pyplot as plt\n",
    "import matplotlib.ticker as ticker\n",
    "pd.set_option(\"display.max_columns\", 40)"
   ]
  },
  {
   "cell_type": "markdown",
   "metadata": {},
   "source": [
    "# Understanding the Dataset and Research Question"
   ]
  },
  {
   "cell_type": "markdown",
   "metadata": {
    "ExecuteTime": {
     "end_time": "2020-10-28T18:43:01.035613Z",
     "start_time": "2020-10-28T18:43:01.018622Z"
    }
   },
   "source": [
    "# Import Libraries and Read Data"
   ]
  },
  {
   "cell_type": "code",
   "execution_count": 2,
   "metadata": {
    "ExecuteTime": {
     "end_time": "2020-11-01T18:58:47.922806Z",
     "start_time": "2020-11-01T18:58:47.907183Z"
    }
   },
   "outputs": [],
   "source": [
    "import pandas as pd\n",
    "import numpy as np\n",
    "pd.set_option('max_columns', None)"
   ]
  },
  {
   "cell_type": "code",
   "execution_count": 3,
   "metadata": {
    "ExecuteTime": {
     "end_time": "2020-11-01T18:58:52.388659Z",
     "start_time": "2020-11-01T18:58:47.922806Z"
    }
   },
   "outputs": [],
   "source": [
    "raw_data = pd.read_csv('Data-Collisions.csv', dtype={'ST_COLCODE' : str}, header=0)\n",
    "df = pd.read_csv('Data-Collisions.csv', dtype={'ST_COLCODE' : str}, header=0)"
   ]
  },
  {
   "cell_type": "code",
   "execution_count": 4,
   "metadata": {
    "ExecuteTime": {
     "end_time": "2020-11-01T18:58:52.408762Z",
     "start_time": "2020-11-01T18:58:52.388659Z"
    }
   },
   "outputs": [
    {
     "data": {
      "text/html": [
       "<style>.container { width:90% !important; }</style>"
      ],
      "text/plain": [
       "<IPython.core.display.HTML object>"
      ]
     },
     "metadata": {},
     "output_type": "display_data"
    }
   ],
   "source": [
    "from IPython.core.display import display, HTML\n",
    "display(HTML('<style>.container { width:90% !important; }</style>'))"
   ]
  },
  {
   "cell_type": "markdown",
   "metadata": {
    "ExecuteTime": {
     "end_time": "2020-10-28T18:42:29.647642Z",
     "start_time": "2020-10-28T18:42:29.642646Z"
    }
   },
   "source": [
    "# Preprocessing"
   ]
  },
  {
   "cell_type": "code",
   "execution_count": 5,
   "metadata": {
    "ExecuteTime": {
     "end_time": "2020-11-01T18:58:52.428872Z",
     "start_time": "2020-11-01T18:58:52.410783Z"
    }
   },
   "outputs": [
    {
     "data": {
      "text/plain": [
       "'SEVERITYCODE, X, Y, OBJECTID, INCKEY, COLDETKEY, REPORTNO, STATUS, ADDRTYPE, INTKEY, LOCATION, EXCEPTRSNCODE, EXCEPTRSNDESC, SEVERITYCODE.1, SEVERITYDESC, COLLISIONTYPE, PERSONCOUNT, PEDCOUNT, PEDCYLCOUNT, VEHCOUNT, INCDATE, INCDTTM, JUNCTIONTYPE, SDOT_COLCODE, SDOT_COLDESC, INATTENTIONIND, UNDERINFL, WEATHER, ROADCOND, LIGHTCOND, PEDROWNOTGRNT, SDOTCOLNUM, SPEEDING, ST_COLCODE, ST_COLDESC, SEGLANEKEY, CROSSWALKKEY, HITPARKEDCAR'"
      ]
     },
     "execution_count": 5,
     "metadata": {},
     "output_type": "execute_result"
    }
   ],
   "source": [
    "', '.join(df.columns)"
   ]
  },
  {
   "cell_type": "code",
   "execution_count": 6,
   "metadata": {
    "ExecuteTime": {
     "end_time": "2020-11-01T18:58:52.509244Z",
     "start_time": "2020-11-01T18:58:52.428872Z"
    }
   },
   "outputs": [
    {
     "data": {
      "text/html": [
       "<div>\n",
       "<style scoped>\n",
       "    .dataframe tbody tr th:only-of-type {\n",
       "        vertical-align: middle;\n",
       "    }\n",
       "\n",
       "    .dataframe tbody tr th {\n",
       "        vertical-align: top;\n",
       "    }\n",
       "\n",
       "    .dataframe thead th {\n",
       "        text-align: right;\n",
       "    }\n",
       "</style>\n",
       "<table border=\"1\" class=\"dataframe\">\n",
       "  <thead>\n",
       "    <tr style=\"text-align: right;\">\n",
       "      <th></th>\n",
       "      <th>SEVERITYCODE</th>\n",
       "      <th>X</th>\n",
       "      <th>Y</th>\n",
       "      <th>OBJECTID</th>\n",
       "      <th>INCKEY</th>\n",
       "      <th>COLDETKEY</th>\n",
       "      <th>REPORTNO</th>\n",
       "      <th>STATUS</th>\n",
       "      <th>ADDRTYPE</th>\n",
       "      <th>INTKEY</th>\n",
       "      <th>LOCATION</th>\n",
       "      <th>EXCEPTRSNCODE</th>\n",
       "      <th>EXCEPTRSNDESC</th>\n",
       "      <th>SEVERITYCODE.1</th>\n",
       "      <th>SEVERITYDESC</th>\n",
       "      <th>COLLISIONTYPE</th>\n",
       "      <th>PERSONCOUNT</th>\n",
       "      <th>PEDCOUNT</th>\n",
       "      <th>PEDCYLCOUNT</th>\n",
       "      <th>VEHCOUNT</th>\n",
       "      <th>INCDATE</th>\n",
       "      <th>INCDTTM</th>\n",
       "      <th>JUNCTIONTYPE</th>\n",
       "      <th>SDOT_COLCODE</th>\n",
       "      <th>SDOT_COLDESC</th>\n",
       "      <th>INATTENTIONIND</th>\n",
       "      <th>UNDERINFL</th>\n",
       "      <th>WEATHER</th>\n",
       "      <th>ROADCOND</th>\n",
       "      <th>LIGHTCOND</th>\n",
       "      <th>PEDROWNOTGRNT</th>\n",
       "      <th>SDOTCOLNUM</th>\n",
       "      <th>SPEEDING</th>\n",
       "      <th>ST_COLCODE</th>\n",
       "      <th>ST_COLDESC</th>\n",
       "      <th>SEGLANEKEY</th>\n",
       "      <th>CROSSWALKKEY</th>\n",
       "      <th>HITPARKEDCAR</th>\n",
       "    </tr>\n",
       "  </thead>\n",
       "  <tbody>\n",
       "    <tr>\n",
       "      <th>0</th>\n",
       "      <td>2</td>\n",
       "      <td>-122.323148</td>\n",
       "      <td>47.703140</td>\n",
       "      <td>1</td>\n",
       "      <td>1307</td>\n",
       "      <td>1307</td>\n",
       "      <td>3502005</td>\n",
       "      <td>Matched</td>\n",
       "      <td>Intersection</td>\n",
       "      <td>37475.0</td>\n",
       "      <td>5TH AVE NE AND NE 103RD ST</td>\n",
       "      <td></td>\n",
       "      <td>NaN</td>\n",
       "      <td>2</td>\n",
       "      <td>Injury Collision</td>\n",
       "      <td>Angles</td>\n",
       "      <td>2</td>\n",
       "      <td>0</td>\n",
       "      <td>0</td>\n",
       "      <td>2</td>\n",
       "      <td>2013/03/27 00:00:00+00</td>\n",
       "      <td>3/27/2013 2:54:00 PM</td>\n",
       "      <td>At Intersection (intersection related)</td>\n",
       "      <td>11</td>\n",
       "      <td>MOTOR VEHICLE STRUCK MOTOR VEHICLE, FRONT END ...</td>\n",
       "      <td>NaN</td>\n",
       "      <td>N</td>\n",
       "      <td>Overcast</td>\n",
       "      <td>Wet</td>\n",
       "      <td>Daylight</td>\n",
       "      <td>NaN</td>\n",
       "      <td>NaN</td>\n",
       "      <td>NaN</td>\n",
       "      <td>10</td>\n",
       "      <td>Entering at angle</td>\n",
       "      <td>0</td>\n",
       "      <td>0</td>\n",
       "      <td>N</td>\n",
       "    </tr>\n",
       "    <tr>\n",
       "      <th>1</th>\n",
       "      <td>1</td>\n",
       "      <td>-122.347294</td>\n",
       "      <td>47.647172</td>\n",
       "      <td>2</td>\n",
       "      <td>52200</td>\n",
       "      <td>52200</td>\n",
       "      <td>2607959</td>\n",
       "      <td>Matched</td>\n",
       "      <td>Block</td>\n",
       "      <td>NaN</td>\n",
       "      <td>AURORA BR BETWEEN RAYE ST AND BRIDGE WAY N</td>\n",
       "      <td>NaN</td>\n",
       "      <td>NaN</td>\n",
       "      <td>1</td>\n",
       "      <td>Property Damage Only Collision</td>\n",
       "      <td>Sideswipe</td>\n",
       "      <td>2</td>\n",
       "      <td>0</td>\n",
       "      <td>0</td>\n",
       "      <td>2</td>\n",
       "      <td>2006/12/20 00:00:00+00</td>\n",
       "      <td>12/20/2006 6:55:00 PM</td>\n",
       "      <td>Mid-Block (not related to intersection)</td>\n",
       "      <td>16</td>\n",
       "      <td>MOTOR VEHICLE STRUCK MOTOR VEHICLE, LEFT SIDE ...</td>\n",
       "      <td>NaN</td>\n",
       "      <td>0</td>\n",
       "      <td>Raining</td>\n",
       "      <td>Wet</td>\n",
       "      <td>Dark - Street Lights On</td>\n",
       "      <td>NaN</td>\n",
       "      <td>6354039.0</td>\n",
       "      <td>NaN</td>\n",
       "      <td>11</td>\n",
       "      <td>From same direction - both going straight - bo...</td>\n",
       "      <td>0</td>\n",
       "      <td>0</td>\n",
       "      <td>N</td>\n",
       "    </tr>\n",
       "    <tr>\n",
       "      <th>2</th>\n",
       "      <td>1</td>\n",
       "      <td>-122.334540</td>\n",
       "      <td>47.607871</td>\n",
       "      <td>3</td>\n",
       "      <td>26700</td>\n",
       "      <td>26700</td>\n",
       "      <td>1482393</td>\n",
       "      <td>Matched</td>\n",
       "      <td>Block</td>\n",
       "      <td>NaN</td>\n",
       "      <td>4TH AVE BETWEEN SENECA ST AND UNIVERSITY ST</td>\n",
       "      <td>NaN</td>\n",
       "      <td>NaN</td>\n",
       "      <td>1</td>\n",
       "      <td>Property Damage Only Collision</td>\n",
       "      <td>Parked Car</td>\n",
       "      <td>4</td>\n",
       "      <td>0</td>\n",
       "      <td>0</td>\n",
       "      <td>3</td>\n",
       "      <td>2004/11/18 00:00:00+00</td>\n",
       "      <td>11/18/2004 10:20:00 AM</td>\n",
       "      <td>Mid-Block (not related to intersection)</td>\n",
       "      <td>14</td>\n",
       "      <td>MOTOR VEHICLE STRUCK MOTOR VEHICLE, REAR END</td>\n",
       "      <td>NaN</td>\n",
       "      <td>0</td>\n",
       "      <td>Overcast</td>\n",
       "      <td>Dry</td>\n",
       "      <td>Daylight</td>\n",
       "      <td>NaN</td>\n",
       "      <td>4323031.0</td>\n",
       "      <td>NaN</td>\n",
       "      <td>32</td>\n",
       "      <td>One parked--one moving</td>\n",
       "      <td>0</td>\n",
       "      <td>0</td>\n",
       "      <td>N</td>\n",
       "    </tr>\n",
       "    <tr>\n",
       "      <th>3</th>\n",
       "      <td>1</td>\n",
       "      <td>-122.334803</td>\n",
       "      <td>47.604803</td>\n",
       "      <td>4</td>\n",
       "      <td>1144</td>\n",
       "      <td>1144</td>\n",
       "      <td>3503937</td>\n",
       "      <td>Matched</td>\n",
       "      <td>Block</td>\n",
       "      <td>NaN</td>\n",
       "      <td>2ND AVE BETWEEN MARION ST AND MADISON ST</td>\n",
       "      <td></td>\n",
       "      <td>NaN</td>\n",
       "      <td>1</td>\n",
       "      <td>Property Damage Only Collision</td>\n",
       "      <td>Other</td>\n",
       "      <td>3</td>\n",
       "      <td>0</td>\n",
       "      <td>0</td>\n",
       "      <td>3</td>\n",
       "      <td>2013/03/29 00:00:00+00</td>\n",
       "      <td>3/29/2013 9:26:00 AM</td>\n",
       "      <td>Mid-Block (not related to intersection)</td>\n",
       "      <td>11</td>\n",
       "      <td>MOTOR VEHICLE STRUCK MOTOR VEHICLE, FRONT END ...</td>\n",
       "      <td>NaN</td>\n",
       "      <td>N</td>\n",
       "      <td>Clear</td>\n",
       "      <td>Dry</td>\n",
       "      <td>Daylight</td>\n",
       "      <td>NaN</td>\n",
       "      <td>NaN</td>\n",
       "      <td>NaN</td>\n",
       "      <td>23</td>\n",
       "      <td>From same direction - all others</td>\n",
       "      <td>0</td>\n",
       "      <td>0</td>\n",
       "      <td>N</td>\n",
       "    </tr>\n",
       "    <tr>\n",
       "      <th>4</th>\n",
       "      <td>2</td>\n",
       "      <td>-122.306426</td>\n",
       "      <td>47.545739</td>\n",
       "      <td>5</td>\n",
       "      <td>17700</td>\n",
       "      <td>17700</td>\n",
       "      <td>1807429</td>\n",
       "      <td>Matched</td>\n",
       "      <td>Intersection</td>\n",
       "      <td>34387.0</td>\n",
       "      <td>SWIFT AVE S AND SWIFT AV OFF RP</td>\n",
       "      <td>NaN</td>\n",
       "      <td>NaN</td>\n",
       "      <td>2</td>\n",
       "      <td>Injury Collision</td>\n",
       "      <td>Angles</td>\n",
       "      <td>2</td>\n",
       "      <td>0</td>\n",
       "      <td>0</td>\n",
       "      <td>2</td>\n",
       "      <td>2004/01/28 00:00:00+00</td>\n",
       "      <td>1/28/2004 8:04:00 AM</td>\n",
       "      <td>At Intersection (intersection related)</td>\n",
       "      <td>11</td>\n",
       "      <td>MOTOR VEHICLE STRUCK MOTOR VEHICLE, FRONT END ...</td>\n",
       "      <td>NaN</td>\n",
       "      <td>0</td>\n",
       "      <td>Raining</td>\n",
       "      <td>Wet</td>\n",
       "      <td>Daylight</td>\n",
       "      <td>NaN</td>\n",
       "      <td>4028032.0</td>\n",
       "      <td>NaN</td>\n",
       "      <td>10</td>\n",
       "      <td>Entering at angle</td>\n",
       "      <td>0</td>\n",
       "      <td>0</td>\n",
       "      <td>N</td>\n",
       "    </tr>\n",
       "  </tbody>\n",
       "</table>\n",
       "</div>"
      ],
      "text/plain": [
       "   SEVERITYCODE           X          Y  OBJECTID  INCKEY  COLDETKEY REPORTNO  \\\n",
       "0             2 -122.323148  47.703140         1    1307       1307  3502005   \n",
       "1             1 -122.347294  47.647172         2   52200      52200  2607959   \n",
       "2             1 -122.334540  47.607871         3   26700      26700  1482393   \n",
       "3             1 -122.334803  47.604803         4    1144       1144  3503937   \n",
       "4             2 -122.306426  47.545739         5   17700      17700  1807429   \n",
       "\n",
       "    STATUS      ADDRTYPE   INTKEY  \\\n",
       "0  Matched  Intersection  37475.0   \n",
       "1  Matched         Block      NaN   \n",
       "2  Matched         Block      NaN   \n",
       "3  Matched         Block      NaN   \n",
       "4  Matched  Intersection  34387.0   \n",
       "\n",
       "                                      LOCATION EXCEPTRSNCODE EXCEPTRSNDESC  \\\n",
       "0                   5TH AVE NE AND NE 103RD ST                         NaN   \n",
       "1   AURORA BR BETWEEN RAYE ST AND BRIDGE WAY N           NaN           NaN   \n",
       "2  4TH AVE BETWEEN SENECA ST AND UNIVERSITY ST           NaN           NaN   \n",
       "3     2ND AVE BETWEEN MARION ST AND MADISON ST                         NaN   \n",
       "4              SWIFT AVE S AND SWIFT AV OFF RP           NaN           NaN   \n",
       "\n",
       "   SEVERITYCODE.1                    SEVERITYDESC COLLISIONTYPE  PERSONCOUNT  \\\n",
       "0               2                Injury Collision        Angles            2   \n",
       "1               1  Property Damage Only Collision     Sideswipe            2   \n",
       "2               1  Property Damage Only Collision    Parked Car            4   \n",
       "3               1  Property Damage Only Collision         Other            3   \n",
       "4               2                Injury Collision        Angles            2   \n",
       "\n",
       "   PEDCOUNT  PEDCYLCOUNT  VEHCOUNT                 INCDATE  \\\n",
       "0         0            0         2  2013/03/27 00:00:00+00   \n",
       "1         0            0         2  2006/12/20 00:00:00+00   \n",
       "2         0            0         3  2004/11/18 00:00:00+00   \n",
       "3         0            0         3  2013/03/29 00:00:00+00   \n",
       "4         0            0         2  2004/01/28 00:00:00+00   \n",
       "\n",
       "                  INCDTTM                             JUNCTIONTYPE  \\\n",
       "0    3/27/2013 2:54:00 PM   At Intersection (intersection related)   \n",
       "1   12/20/2006 6:55:00 PM  Mid-Block (not related to intersection)   \n",
       "2  11/18/2004 10:20:00 AM  Mid-Block (not related to intersection)   \n",
       "3    3/29/2013 9:26:00 AM  Mid-Block (not related to intersection)   \n",
       "4    1/28/2004 8:04:00 AM   At Intersection (intersection related)   \n",
       "\n",
       "   SDOT_COLCODE                                       SDOT_COLDESC  \\\n",
       "0            11  MOTOR VEHICLE STRUCK MOTOR VEHICLE, FRONT END ...   \n",
       "1            16  MOTOR VEHICLE STRUCK MOTOR VEHICLE, LEFT SIDE ...   \n",
       "2            14       MOTOR VEHICLE STRUCK MOTOR VEHICLE, REAR END   \n",
       "3            11  MOTOR VEHICLE STRUCK MOTOR VEHICLE, FRONT END ...   \n",
       "4            11  MOTOR VEHICLE STRUCK MOTOR VEHICLE, FRONT END ...   \n",
       "\n",
       "  INATTENTIONIND UNDERINFL   WEATHER ROADCOND                LIGHTCOND  \\\n",
       "0            NaN         N  Overcast      Wet                 Daylight   \n",
       "1            NaN         0   Raining      Wet  Dark - Street Lights On   \n",
       "2            NaN         0  Overcast      Dry                 Daylight   \n",
       "3            NaN         N     Clear      Dry                 Daylight   \n",
       "4            NaN         0   Raining      Wet                 Daylight   \n",
       "\n",
       "  PEDROWNOTGRNT  SDOTCOLNUM SPEEDING ST_COLCODE  \\\n",
       "0           NaN         NaN      NaN         10   \n",
       "1           NaN   6354039.0      NaN         11   \n",
       "2           NaN   4323031.0      NaN         32   \n",
       "3           NaN         NaN      NaN         23   \n",
       "4           NaN   4028032.0      NaN         10   \n",
       "\n",
       "                                          ST_COLDESC  SEGLANEKEY  \\\n",
       "0                                  Entering at angle           0   \n",
       "1  From same direction - both going straight - bo...           0   \n",
       "2                             One parked--one moving           0   \n",
       "3                   From same direction - all others           0   \n",
       "4                                  Entering at angle           0   \n",
       "\n",
       "   CROSSWALKKEY HITPARKEDCAR  \n",
       "0             0            N  \n",
       "1             0            N  \n",
       "2             0            N  \n",
       "3             0            N  \n",
       "4             0            N  "
      ]
     },
     "execution_count": 6,
     "metadata": {},
     "output_type": "execute_result"
    }
   ],
   "source": [
    "df.head()"
   ]
  },
  {
   "cell_type": "markdown",
   "metadata": {},
   "source": [
    "* In the dataset, the target variable is `SEVERITYCODE` which gives the severity of the collision.\n",
    "* In the first look, we see that there are two similar features to the target variable such as `SEVERITYCODE.1` and `SEVERITYDESC`. It will be the best to see those features in a separate dataframe."
   ]
  },
  {
   "cell_type": "code",
   "execution_count": 7,
   "metadata": {
    "ExecuteTime": {
     "end_time": "2020-11-01T18:58:52.549407Z",
     "start_time": "2020-11-01T18:58:52.511265Z"
    },
    "scrolled": false
   },
   "outputs": [
    {
     "data": {
      "text/html": [
       "<div>\n",
       "<style scoped>\n",
       "    .dataframe tbody tr th:only-of-type {\n",
       "        vertical-align: middle;\n",
       "    }\n",
       "\n",
       "    .dataframe tbody tr th {\n",
       "        vertical-align: top;\n",
       "    }\n",
       "\n",
       "    .dataframe thead th {\n",
       "        text-align: right;\n",
       "    }\n",
       "</style>\n",
       "<table border=\"1\" class=\"dataframe\">\n",
       "  <thead>\n",
       "    <tr style=\"text-align: right;\">\n",
       "      <th></th>\n",
       "      <th>SEVERITYCODE</th>\n",
       "      <th>SEVERITYCODE.1</th>\n",
       "      <th>SEVERITYDESC</th>\n",
       "    </tr>\n",
       "  </thead>\n",
       "  <tbody>\n",
       "    <tr>\n",
       "      <th>0</th>\n",
       "      <td>2</td>\n",
       "      <td>2</td>\n",
       "      <td>Injury Collision</td>\n",
       "    </tr>\n",
       "    <tr>\n",
       "      <th>1</th>\n",
       "      <td>1</td>\n",
       "      <td>1</td>\n",
       "      <td>Property Damage Only Collision</td>\n",
       "    </tr>\n",
       "    <tr>\n",
       "      <th>2</th>\n",
       "      <td>1</td>\n",
       "      <td>1</td>\n",
       "      <td>Property Damage Only Collision</td>\n",
       "    </tr>\n",
       "    <tr>\n",
       "      <th>3</th>\n",
       "      <td>1</td>\n",
       "      <td>1</td>\n",
       "      <td>Property Damage Only Collision</td>\n",
       "    </tr>\n",
       "    <tr>\n",
       "      <th>4</th>\n",
       "      <td>2</td>\n",
       "      <td>2</td>\n",
       "      <td>Injury Collision</td>\n",
       "    </tr>\n",
       "    <tr>\n",
       "      <th>...</th>\n",
       "      <td>...</td>\n",
       "      <td>...</td>\n",
       "      <td>...</td>\n",
       "    </tr>\n",
       "    <tr>\n",
       "      <th>194668</th>\n",
       "      <td>2</td>\n",
       "      <td>2</td>\n",
       "      <td>Injury Collision</td>\n",
       "    </tr>\n",
       "    <tr>\n",
       "      <th>194669</th>\n",
       "      <td>1</td>\n",
       "      <td>1</td>\n",
       "      <td>Property Damage Only Collision</td>\n",
       "    </tr>\n",
       "    <tr>\n",
       "      <th>194670</th>\n",
       "      <td>2</td>\n",
       "      <td>2</td>\n",
       "      <td>Injury Collision</td>\n",
       "    </tr>\n",
       "    <tr>\n",
       "      <th>194671</th>\n",
       "      <td>2</td>\n",
       "      <td>2</td>\n",
       "      <td>Injury Collision</td>\n",
       "    </tr>\n",
       "    <tr>\n",
       "      <th>194672</th>\n",
       "      <td>1</td>\n",
       "      <td>1</td>\n",
       "      <td>Property Damage Only Collision</td>\n",
       "    </tr>\n",
       "  </tbody>\n",
       "</table>\n",
       "<p>194673 rows × 3 columns</p>\n",
       "</div>"
      ],
      "text/plain": [
       "        SEVERITYCODE  SEVERITYCODE.1                    SEVERITYDESC\n",
       "0                  2               2                Injury Collision\n",
       "1                  1               1  Property Damage Only Collision\n",
       "2                  1               1  Property Damage Only Collision\n",
       "3                  1               1  Property Damage Only Collision\n",
       "4                  2               2                Injury Collision\n",
       "...              ...             ...                             ...\n",
       "194668             2               2                Injury Collision\n",
       "194669             1               1  Property Damage Only Collision\n",
       "194670             2               2                Injury Collision\n",
       "194671             2               2                Injury Collision\n",
       "194672             1               1  Property Damage Only Collision\n",
       "\n",
       "[194673 rows x 3 columns]"
      ]
     },
     "execution_count": 7,
     "metadata": {},
     "output_type": "execute_result"
    }
   ],
   "source": [
    "df['SEVERITYCODE,SEVERITYCODE.1,SEVERITYDESC'.split(',')]"
   ]
  },
  {
   "cell_type": "code",
   "execution_count": 8,
   "metadata": {
    "ExecuteTime": {
     "end_time": "2020-11-01T18:58:52.596289Z",
     "start_time": "2020-11-01T18:58:52.549407Z"
    }
   },
   "outputs": [
    {
     "name": "stdout",
     "output_type": "stream",
     "text": [
      "Two attributes (SEVERITYCODE and SEVERITYCODE.1) are exactly same.\n",
      "Two attributes (SEVERITYCODE and SEVERITYDESC) are exactly same.\n"
     ]
    }
   ],
   "source": [
    "# check the relationship between those 3 features\n",
    "if df['SEVERITYCODE'].equals(df['SEVERITYCODE.1']) == True:\n",
    "    print('Two attributes (SEVERITYCODE and SEVERITYCODE.1) are exactly same.')\n",
    "temp = np.where(df.SEVERITYDESC == 'Injury Collision', 2, 1)\n",
    "temp = temp.astype(np.int64) # typecasting to be same with SEVERITYCODE\n",
    "if df['SEVERITYCODE'].equals(pd.Series(temp)) == True:\n",
    "    print('Two attributes (SEVERITYCODE and SEVERITYDESC) are exactly same.')"
   ]
  },
  {
   "cell_type": "markdown",
   "metadata": {},
   "source": [
    "* All variables are same so that it is appropriate to drop __SEVERITYCODE.1__ and __SEVERITYDESC__from the dataset.\n",
    "* __SEVERITYCODE__ is the encoded version of __SEVERITYDESC__ which tells us that `1` represents _Property Damage Only Collision_ and `2` represents _Injury Collision_.\n",
    "* Let's have a look to class distribution."
   ]
  },
  {
   "cell_type": "code",
   "execution_count": 9,
   "metadata": {
    "ExecuteTime": {
     "end_time": "2020-11-01T18:58:52.781209Z",
     "start_time": "2020-11-01T18:58:52.596289Z"
    },
    "scrolled": false
   },
   "outputs": [
    {
     "name": "stdout",
     "output_type": "stream",
     "text": [
      "Number of observations in the negative class (SEVERITYCODE = 1 / Property damage): 136485\n",
      "Number of observations in the positive class (SEVERITYCODE = 2 / Injury): 58188\n",
      "Number of missing values in the target variable: 0\n"
     ]
    }
   ],
   "source": [
    "print('Number of observations in the negative class (SEVERITYCODE = 1 / Property damage): {}'.format(\n",
    "    df[df.SEVERITYCODE == 1].shape[0]))\n",
    "print('Number of observations in the positive class (SEVERITYCODE = 2 / Injury): {}'.format(\n",
    "    df[df.SEVERITYCODE == 2].shape[0]))\n",
    "print('Number of missing values in the target variable: {}'.format(\n",
    "    df[df.SEVERITYCODE.isnull() == True].shape[0]))"
   ]
  },
  {
   "cell_type": "code",
   "execution_count": 10,
   "metadata": {
    "ExecuteTime": {
     "end_time": "2020-11-01T18:58:52.928341Z",
     "start_time": "2020-11-01T18:58:52.781209Z"
    }
   },
   "outputs": [
    {
     "name": "stdout",
     "output_type": "stream",
     "text": [
      "Class Distribution\n",
      "Negative Class: 0.701\n",
      "Positive Class: 0.299\n"
     ]
    }
   ],
   "source": [
    "print('Class Distribution')\n",
    "print('Negative Class:', round(df[df.SEVERITYCODE == 1].shape[0] / df.shape[0], 3))\n",
    "print('Positive Class:', round(df[df.SEVERITYCODE == 2].shape[0] / df.shape[0], 3))"
   ]
  },
  {
   "cell_type": "code",
   "execution_count": 11,
   "metadata": {
    "ExecuteTime": {
     "end_time": "2020-11-01T18:58:56.553833Z",
     "start_time": "2020-11-01T18:58:52.928341Z"
    }
   },
   "outputs": [
    {
     "data": {
      "text/html": [
       "<div>\n",
       "<style scoped>\n",
       "    .dataframe tbody tr th:only-of-type {\n",
       "        vertical-align: middle;\n",
       "    }\n",
       "\n",
       "    .dataframe tbody tr th {\n",
       "        vertical-align: top;\n",
       "    }\n",
       "\n",
       "    .dataframe thead th {\n",
       "        text-align: right;\n",
       "    }\n",
       "</style>\n",
       "<table border=\"1\" class=\"dataframe\">\n",
       "  <thead>\n",
       "    <tr style=\"text-align: right;\">\n",
       "      <th></th>\n",
       "      <th>columns</th>\n",
       "      <th>num_missing</th>\n",
       "      <th>perc_missing</th>\n",
       "      <th>num_unique</th>\n",
       "    </tr>\n",
       "  </thead>\n",
       "  <tbody>\n",
       "    <tr>\n",
       "      <th>0</th>\n",
       "      <td>OBJECTID</td>\n",
       "      <td>0</td>\n",
       "      <td>0.000</td>\n",
       "      <td>194673</td>\n",
       "    </tr>\n",
       "    <tr>\n",
       "      <th>1</th>\n",
       "      <td>INCKEY</td>\n",
       "      <td>0</td>\n",
       "      <td>0.000</td>\n",
       "      <td>194673</td>\n",
       "    </tr>\n",
       "    <tr>\n",
       "      <th>2</th>\n",
       "      <td>COLDETKEY</td>\n",
       "      <td>0</td>\n",
       "      <td>0.000</td>\n",
       "      <td>194673</td>\n",
       "    </tr>\n",
       "    <tr>\n",
       "      <th>3</th>\n",
       "      <td>REPORTNO</td>\n",
       "      <td>0</td>\n",
       "      <td>0.000</td>\n",
       "      <td>194670</td>\n",
       "    </tr>\n",
       "    <tr>\n",
       "      <th>4</th>\n",
       "      <td>INCDTTM</td>\n",
       "      <td>0</td>\n",
       "      <td>0.000</td>\n",
       "      <td>162058</td>\n",
       "    </tr>\n",
       "    <tr>\n",
       "      <th>5</th>\n",
       "      <td>INCDATE</td>\n",
       "      <td>0</td>\n",
       "      <td>0.000</td>\n",
       "      <td>5985</td>\n",
       "    </tr>\n",
       "    <tr>\n",
       "      <th>6</th>\n",
       "      <td>CROSSWALKKEY</td>\n",
       "      <td>0</td>\n",
       "      <td>0.000</td>\n",
       "      <td>2198</td>\n",
       "    </tr>\n",
       "    <tr>\n",
       "      <th>7</th>\n",
       "      <td>SEGLANEKEY</td>\n",
       "      <td>0</td>\n",
       "      <td>0.000</td>\n",
       "      <td>1955</td>\n",
       "    </tr>\n",
       "    <tr>\n",
       "      <th>8</th>\n",
       "      <td>PERSONCOUNT</td>\n",
       "      <td>0</td>\n",
       "      <td>0.000</td>\n",
       "      <td>47</td>\n",
       "    </tr>\n",
       "    <tr>\n",
       "      <th>9</th>\n",
       "      <td>SDOT_COLCODE</td>\n",
       "      <td>0</td>\n",
       "      <td>0.000</td>\n",
       "      <td>39</td>\n",
       "    </tr>\n",
       "    <tr>\n",
       "      <th>10</th>\n",
       "      <td>SDOT_COLDESC</td>\n",
       "      <td>0</td>\n",
       "      <td>0.000</td>\n",
       "      <td>39</td>\n",
       "    </tr>\n",
       "    <tr>\n",
       "      <th>11</th>\n",
       "      <td>VEHCOUNT</td>\n",
       "      <td>0</td>\n",
       "      <td>0.000</td>\n",
       "      <td>13</td>\n",
       "    </tr>\n",
       "    <tr>\n",
       "      <th>12</th>\n",
       "      <td>PEDCOUNT</td>\n",
       "      <td>0</td>\n",
       "      <td>0.000</td>\n",
       "      <td>7</td>\n",
       "    </tr>\n",
       "    <tr>\n",
       "      <th>13</th>\n",
       "      <td>PEDCYLCOUNT</td>\n",
       "      <td>0</td>\n",
       "      <td>0.000</td>\n",
       "      <td>3</td>\n",
       "    </tr>\n",
       "    <tr>\n",
       "      <th>14</th>\n",
       "      <td>SEVERITYCODE</td>\n",
       "      <td>0</td>\n",
       "      <td>0.000</td>\n",
       "      <td>2</td>\n",
       "    </tr>\n",
       "    <tr>\n",
       "      <th>15</th>\n",
       "      <td>STATUS</td>\n",
       "      <td>0</td>\n",
       "      <td>0.000</td>\n",
       "      <td>2</td>\n",
       "    </tr>\n",
       "    <tr>\n",
       "      <th>16</th>\n",
       "      <td>SEVERITYCODE.1</td>\n",
       "      <td>0</td>\n",
       "      <td>0.000</td>\n",
       "      <td>2</td>\n",
       "    </tr>\n",
       "    <tr>\n",
       "      <th>17</th>\n",
       "      <td>SEVERITYDESC</td>\n",
       "      <td>0</td>\n",
       "      <td>0.000</td>\n",
       "      <td>2</td>\n",
       "    </tr>\n",
       "    <tr>\n",
       "      <th>18</th>\n",
       "      <td>HITPARKEDCAR</td>\n",
       "      <td>0</td>\n",
       "      <td>0.000</td>\n",
       "      <td>2</td>\n",
       "    </tr>\n",
       "    <tr>\n",
       "      <th>19</th>\n",
       "      <td>ST_COLCODE</td>\n",
       "      <td>18</td>\n",
       "      <td>0.009</td>\n",
       "      <td>64</td>\n",
       "    </tr>\n",
       "    <tr>\n",
       "      <th>20</th>\n",
       "      <td>ADDRTYPE</td>\n",
       "      <td>1926</td>\n",
       "      <td>0.989</td>\n",
       "      <td>4</td>\n",
       "    </tr>\n",
       "    <tr>\n",
       "      <th>21</th>\n",
       "      <td>LOCATION</td>\n",
       "      <td>2677</td>\n",
       "      <td>1.375</td>\n",
       "      <td>24103</td>\n",
       "    </tr>\n",
       "    <tr>\n",
       "      <th>22</th>\n",
       "      <td>UNDERINFL</td>\n",
       "      <td>4884</td>\n",
       "      <td>2.509</td>\n",
       "      <td>5</td>\n",
       "    </tr>\n",
       "    <tr>\n",
       "      <th>23</th>\n",
       "      <td>ST_COLDESC</td>\n",
       "      <td>4904</td>\n",
       "      <td>2.519</td>\n",
       "      <td>63</td>\n",
       "    </tr>\n",
       "    <tr>\n",
       "      <th>24</th>\n",
       "      <td>COLLISIONTYPE</td>\n",
       "      <td>4904</td>\n",
       "      <td>2.519</td>\n",
       "      <td>11</td>\n",
       "    </tr>\n",
       "    <tr>\n",
       "      <th>25</th>\n",
       "      <td>ROADCOND</td>\n",
       "      <td>5012</td>\n",
       "      <td>2.575</td>\n",
       "      <td>10</td>\n",
       "    </tr>\n",
       "    <tr>\n",
       "      <th>26</th>\n",
       "      <td>WEATHER</td>\n",
       "      <td>5081</td>\n",
       "      <td>2.610</td>\n",
       "      <td>12</td>\n",
       "    </tr>\n",
       "    <tr>\n",
       "      <th>27</th>\n",
       "      <td>LIGHTCOND</td>\n",
       "      <td>5170</td>\n",
       "      <td>2.656</td>\n",
       "      <td>10</td>\n",
       "    </tr>\n",
       "    <tr>\n",
       "      <th>28</th>\n",
       "      <td>Y</td>\n",
       "      <td>5334</td>\n",
       "      <td>2.740</td>\n",
       "      <td>23840</td>\n",
       "    </tr>\n",
       "    <tr>\n",
       "      <th>29</th>\n",
       "      <td>X</td>\n",
       "      <td>5334</td>\n",
       "      <td>2.740</td>\n",
       "      <td>23564</td>\n",
       "    </tr>\n",
       "    <tr>\n",
       "      <th>30</th>\n",
       "      <td>JUNCTIONTYPE</td>\n",
       "      <td>6329</td>\n",
       "      <td>3.251</td>\n",
       "      <td>8</td>\n",
       "    </tr>\n",
       "    <tr>\n",
       "      <th>31</th>\n",
       "      <td>SDOTCOLNUM</td>\n",
       "      <td>79737</td>\n",
       "      <td>40.959</td>\n",
       "      <td>114933</td>\n",
       "    </tr>\n",
       "    <tr>\n",
       "      <th>32</th>\n",
       "      <td>EXCEPTRSNCODE</td>\n",
       "      <td>109862</td>\n",
       "      <td>56.434</td>\n",
       "      <td>3</td>\n",
       "    </tr>\n",
       "    <tr>\n",
       "      <th>33</th>\n",
       "      <td>INTKEY</td>\n",
       "      <td>129603</td>\n",
       "      <td>66.575</td>\n",
       "      <td>7615</td>\n",
       "    </tr>\n",
       "    <tr>\n",
       "      <th>34</th>\n",
       "      <td>INATTENTIONIND</td>\n",
       "      <td>164868</td>\n",
       "      <td>84.690</td>\n",
       "      <td>2</td>\n",
       "    </tr>\n",
       "    <tr>\n",
       "      <th>35</th>\n",
       "      <td>SPEEDING</td>\n",
       "      <td>185340</td>\n",
       "      <td>95.206</td>\n",
       "      <td>2</td>\n",
       "    </tr>\n",
       "    <tr>\n",
       "      <th>36</th>\n",
       "      <td>EXCEPTRSNDESC</td>\n",
       "      <td>189035</td>\n",
       "      <td>97.104</td>\n",
       "      <td>2</td>\n",
       "    </tr>\n",
       "    <tr>\n",
       "      <th>37</th>\n",
       "      <td>PEDROWNOTGRNT</td>\n",
       "      <td>190006</td>\n",
       "      <td>97.603</td>\n",
       "      <td>2</td>\n",
       "    </tr>\n",
       "  </tbody>\n",
       "</table>\n",
       "</div>"
      ],
      "text/plain": [
       "           columns  num_missing  perc_missing  num_unique\n",
       "0         OBJECTID            0         0.000      194673\n",
       "1           INCKEY            0         0.000      194673\n",
       "2        COLDETKEY            0         0.000      194673\n",
       "3         REPORTNO            0         0.000      194670\n",
       "4          INCDTTM            0         0.000      162058\n",
       "5          INCDATE            0         0.000        5985\n",
       "6     CROSSWALKKEY            0         0.000        2198\n",
       "7       SEGLANEKEY            0         0.000        1955\n",
       "8      PERSONCOUNT            0         0.000          47\n",
       "9     SDOT_COLCODE            0         0.000          39\n",
       "10    SDOT_COLDESC            0         0.000          39\n",
       "11        VEHCOUNT            0         0.000          13\n",
       "12        PEDCOUNT            0         0.000           7\n",
       "13     PEDCYLCOUNT            0         0.000           3\n",
       "14    SEVERITYCODE            0         0.000           2\n",
       "15          STATUS            0         0.000           2\n",
       "16  SEVERITYCODE.1            0         0.000           2\n",
       "17    SEVERITYDESC            0         0.000           2\n",
       "18    HITPARKEDCAR            0         0.000           2\n",
       "19      ST_COLCODE           18         0.009          64\n",
       "20        ADDRTYPE         1926         0.989           4\n",
       "21        LOCATION         2677         1.375       24103\n",
       "22       UNDERINFL         4884         2.509           5\n",
       "23      ST_COLDESC         4904         2.519          63\n",
       "24   COLLISIONTYPE         4904         2.519          11\n",
       "25        ROADCOND         5012         2.575          10\n",
       "26         WEATHER         5081         2.610          12\n",
       "27       LIGHTCOND         5170         2.656          10\n",
       "28               Y         5334         2.740       23840\n",
       "29               X         5334         2.740       23564\n",
       "30    JUNCTIONTYPE         6329         3.251           8\n",
       "31      SDOTCOLNUM        79737        40.959      114933\n",
       "32   EXCEPTRSNCODE       109862        56.434           3\n",
       "33          INTKEY       129603        66.575        7615\n",
       "34  INATTENTIONIND       164868        84.690           2\n",
       "35        SPEEDING       185340        95.206           2\n",
       "36   EXCEPTRSNDESC       189035        97.104           2\n",
       "37   PEDROWNOTGRNT       190006        97.603           2"
      ]
     },
     "execution_count": 11,
     "metadata": {},
     "output_type": "execute_result"
    }
   ],
   "source": [
    "t_missing = [sum(df[column].isnull()) for column in df.columns]\n",
    "t_missing_perc = [round((sum(df[column].isnull()) / df.shape[0]) * 100, 3)\n",
    "                     for column in df.columns]\n",
    "t_unique = [len(df[column].unique()) for column in df.columns]\n",
    "df_missing = pd.DataFrame({'columns': df.columns, 'num_missing': t_missing,\n",
    "                           'perc_missing': t_missing_perc,\n",
    "                           'num_unique': t_unique})\n",
    "df_missing.sort_values(['perc_missing', 'num_unique'],\n",
    "                       ascending=[True, False]).reset_index(drop=True)"
   ]
  },
  {
   "cell_type": "markdown",
   "metadata": {},
   "source": [
    "* As seen from the above table, there is a threshold in the percentage of missing values. The variables have percentage of missing values either less than __5%__ or more than __40%__.\n",
    "* When the size of the dataset is considered, any variable that has percentage of missing values less than 5% is acceptable. However, the rest of the variables will need further examination.\n",
    "* Moreover, __OBJECTID__, __INCKEY__, __COLDETKEY__ and __REPORTNO__ have unique values for each observation that means they do not have explanatory power.\n",
    "* Another important thing is that __SDOTCOLNUM__ is also a unique variable. We can see it by adding number of missing values and non-missing values which gives the number of all observations.\n",
    "* Let's have a look to unique values of variables."
   ]
  },
  {
   "cell_type": "code",
   "execution_count": 12,
   "metadata": {
    "ExecuteTime": {
     "end_time": "2020-11-01T18:58:56.769987Z",
     "start_time": "2020-11-01T18:58:56.553833Z"
    },
    "scrolled": false
   },
   "outputs": [
    {
     "name": "stdout",
     "output_type": "stream",
     "text": [
      "SDOTCOLNUM unique values:\n",
      "--------------------------------------------------------------------------------\n",
      "4116034.0     2\n",
      "11200007.0    2\n",
      "4112025.0     2\n",
      "4116048.0     2\n",
      "5036003.0     1\n",
      "             ..\n",
      "6262043.0     1\n",
      "6162018.0     1\n",
      "6277003.0     1\n",
      "8267022.0     1\n",
      "5071015.0     1\n",
      "Name: SDOTCOLNUM, Length: 114932, dtype: int64\n",
      "\n",
      "EXCEPTRSNCODE unique values:\n",
      "--------------------------------------------------------------------------------\n",
      "       79173\n",
      "NEI     5638\n",
      "Name: EXCEPTRSNCODE, dtype: int64\n",
      "\n",
      "INTKEY unique values:\n",
      "--------------------------------------------------------------------------------\n",
      "29973.0    252\n",
      "29933.0    160\n",
      "29913.0    138\n",
      "29549.0    136\n",
      "33512.0    128\n",
      "          ... \n",
      "36825.0      1\n",
      "26604.0      1\n",
      "26603.0      1\n",
      "36816.0      1\n",
      "27793.0      1\n",
      "Name: INTKEY, Length: 7614, dtype: int64\n",
      "\n",
      "INATTENTIONIND unique values:\n",
      "--------------------------------------------------------------------------------\n",
      "Y    29805\n",
      "Name: INATTENTIONIND, dtype: int64\n",
      "\n",
      "SPEEDING unique values:\n",
      "--------------------------------------------------------------------------------\n",
      "Y    9333\n",
      "Name: SPEEDING, dtype: int64\n",
      "\n",
      "EXCEPTRSNDESC unique values:\n",
      "--------------------------------------------------------------------------------\n",
      "Not Enough Information, or Insufficient Location Information    5638\n",
      "Name: EXCEPTRSNDESC, dtype: int64\n",
      "\n",
      "PEDROWNOTGRNT unique values:\n",
      "--------------------------------------------------------------------------------\n",
      "Y    4667\n",
      "Name: PEDROWNOTGRNT, dtype: int64\n",
      "\n"
     ]
    }
   ],
   "source": [
    "missing_40 = 'SDOTCOLNUM,EXCEPTRSNCODE,INTKEY,INATTENTIONIND,SPEEDING,EXCEPTRSNDESC,PEDROWNOTGRNT'.split(',')\n",
    "for column in missing_40:\n",
    "    print(column + ' unique values:')\n",
    "    print('-'*80)\n",
    "    print(df[column].value_counts(), end='\\n\\n')"
   ]
  },
  {
   "cell_type": "markdown",
   "metadata": {},
   "source": [
    "* Among the variables that have percentage of missing values over 40%, there are some useful variables. It is not the best practices to drop all those variables. \n",
    "* __SPEEDING__, __INATTENTIONIND__ and __PEDROWNOTGRNT__ variables are naturally dummy variables. For example, let's think about __SPEEDING__. A driver can only be in one of the categories, either he did speeding or not. There are not another option. This logic also applies __INATTENTIONIND__ and __PEDROWNOTGRNT__. \n",
    "* This approach does gives us one explanation which is, for those features, only the positive cases are present in the dataset. In other words, missing values represents the negative cases. For this reason, it is better to recode missing values as negative cases.\n",
    "* It is possible to do a sanity check on these features. For example, a quick Google search will show that speeding accounts for 17%-26% of all fatal crashes. However, the dataset does not include any fatal case. For this reason, this kind of a statistic will not work for the dataset. On the other hand, the fatal crashes are a small proportion of all crashes/collisions which means that speeding accounts for a smaller portion of all crashes/collusions. \n",
    "* As a result, we will keep those variables in the dataset."
   ]
  },
  {
   "cell_type": "code",
   "execution_count": 13,
   "metadata": {
    "ExecuteTime": {
     "end_time": "2020-11-01T18:58:56.823384Z",
     "start_time": "2020-11-01T18:58:56.769987Z"
    }
   },
   "outputs": [
    {
     "data": {
      "text/html": [
       "<div>\n",
       "<style scoped>\n",
       "    .dataframe tbody tr th:only-of-type {\n",
       "        vertical-align: middle;\n",
       "    }\n",
       "\n",
       "    .dataframe tbody tr th {\n",
       "        vertical-align: top;\n",
       "    }\n",
       "\n",
       "    .dataframe thead th {\n",
       "        text-align: right;\n",
       "    }\n",
       "</style>\n",
       "<table border=\"1\" class=\"dataframe\">\n",
       "  <thead>\n",
       "    <tr style=\"text-align: right;\">\n",
       "      <th></th>\n",
       "      <th>SDOT_COLCODE</th>\n",
       "      <th>SDOT_COLDESC</th>\n",
       "      <th>EXCEPTRSNCODE</th>\n",
       "      <th>EXCEPTRSNDESC</th>\n",
       "      <th>ST_COLCODE</th>\n",
       "      <th>ST_COLDESC</th>\n",
       "    </tr>\n",
       "  </thead>\n",
       "  <tbody>\n",
       "    <tr>\n",
       "      <th>0</th>\n",
       "      <td>11</td>\n",
       "      <td>MOTOR VEHICLE STRUCK MOTOR VEHICLE, FRONT END ...</td>\n",
       "      <td></td>\n",
       "      <td>NaN</td>\n",
       "      <td>10</td>\n",
       "      <td>Entering at angle</td>\n",
       "    </tr>\n",
       "    <tr>\n",
       "      <th>1</th>\n",
       "      <td>16</td>\n",
       "      <td>MOTOR VEHICLE STRUCK MOTOR VEHICLE, LEFT SIDE ...</td>\n",
       "      <td>NaN</td>\n",
       "      <td>NaN</td>\n",
       "      <td>11</td>\n",
       "      <td>From same direction - both going straight - bo...</td>\n",
       "    </tr>\n",
       "    <tr>\n",
       "      <th>2</th>\n",
       "      <td>14</td>\n",
       "      <td>MOTOR VEHICLE STRUCK MOTOR VEHICLE, REAR END</td>\n",
       "      <td>NaN</td>\n",
       "      <td>NaN</td>\n",
       "      <td>32</td>\n",
       "      <td>One parked--one moving</td>\n",
       "    </tr>\n",
       "    <tr>\n",
       "      <th>3</th>\n",
       "      <td>11</td>\n",
       "      <td>MOTOR VEHICLE STRUCK MOTOR VEHICLE, FRONT END ...</td>\n",
       "      <td></td>\n",
       "      <td>NaN</td>\n",
       "      <td>23</td>\n",
       "      <td>From same direction - all others</td>\n",
       "    </tr>\n",
       "    <tr>\n",
       "      <th>4</th>\n",
       "      <td>11</td>\n",
       "      <td>MOTOR VEHICLE STRUCK MOTOR VEHICLE, FRONT END ...</td>\n",
       "      <td>NaN</td>\n",
       "      <td>NaN</td>\n",
       "      <td>10</td>\n",
       "      <td>Entering at angle</td>\n",
       "    </tr>\n",
       "    <tr>\n",
       "      <th>...</th>\n",
       "      <td>...</td>\n",
       "      <td>...</td>\n",
       "      <td>...</td>\n",
       "      <td>...</td>\n",
       "      <td>...</td>\n",
       "      <td>...</td>\n",
       "    </tr>\n",
       "    <tr>\n",
       "      <th>194668</th>\n",
       "      <td>11</td>\n",
       "      <td>MOTOR VEHICLE STRUCK MOTOR VEHICLE, FRONT END ...</td>\n",
       "      <td></td>\n",
       "      <td>NaN</td>\n",
       "      <td>24</td>\n",
       "      <td>From opposite direction - both moving - head-on</td>\n",
       "    </tr>\n",
       "    <tr>\n",
       "      <th>194669</th>\n",
       "      <td>14</td>\n",
       "      <td>MOTOR VEHICLE STRUCK MOTOR VEHICLE, REAR END</td>\n",
       "      <td></td>\n",
       "      <td>NaN</td>\n",
       "      <td>13</td>\n",
       "      <td>From same direction - both going straight - bo...</td>\n",
       "    </tr>\n",
       "    <tr>\n",
       "      <th>194670</th>\n",
       "      <td>11</td>\n",
       "      <td>MOTOR VEHICLE STRUCK MOTOR VEHICLE, FRONT END ...</td>\n",
       "      <td></td>\n",
       "      <td>NaN</td>\n",
       "      <td>28</td>\n",
       "      <td>From opposite direction - one left turn - one ...</td>\n",
       "    </tr>\n",
       "    <tr>\n",
       "      <th>194671</th>\n",
       "      <td>51</td>\n",
       "      <td>PEDALCYCLIST STRUCK MOTOR VEHICLE FRONT END AT...</td>\n",
       "      <td></td>\n",
       "      <td>NaN</td>\n",
       "      <td>5</td>\n",
       "      <td>Vehicle Strikes Pedalcyclist</td>\n",
       "    </tr>\n",
       "    <tr>\n",
       "      <th>194672</th>\n",
       "      <td>14</td>\n",
       "      <td>MOTOR VEHICLE STRUCK MOTOR VEHICLE, REAR END</td>\n",
       "      <td></td>\n",
       "      <td>NaN</td>\n",
       "      <td>14</td>\n",
       "      <td>From same direction - both going straight - on...</td>\n",
       "    </tr>\n",
       "  </tbody>\n",
       "</table>\n",
       "<p>194673 rows × 6 columns</p>\n",
       "</div>"
      ],
      "text/plain": [
       "        SDOT_COLCODE                                       SDOT_COLDESC  \\\n",
       "0                 11  MOTOR VEHICLE STRUCK MOTOR VEHICLE, FRONT END ...   \n",
       "1                 16  MOTOR VEHICLE STRUCK MOTOR VEHICLE, LEFT SIDE ...   \n",
       "2                 14       MOTOR VEHICLE STRUCK MOTOR VEHICLE, REAR END   \n",
       "3                 11  MOTOR VEHICLE STRUCK MOTOR VEHICLE, FRONT END ...   \n",
       "4                 11  MOTOR VEHICLE STRUCK MOTOR VEHICLE, FRONT END ...   \n",
       "...              ...                                                ...   \n",
       "194668            11  MOTOR VEHICLE STRUCK MOTOR VEHICLE, FRONT END ...   \n",
       "194669            14       MOTOR VEHICLE STRUCK MOTOR VEHICLE, REAR END   \n",
       "194670            11  MOTOR VEHICLE STRUCK MOTOR VEHICLE, FRONT END ...   \n",
       "194671            51  PEDALCYCLIST STRUCK MOTOR VEHICLE FRONT END AT...   \n",
       "194672            14       MOTOR VEHICLE STRUCK MOTOR VEHICLE, REAR END   \n",
       "\n",
       "       EXCEPTRSNCODE EXCEPTRSNDESC ST_COLCODE  \\\n",
       "0                              NaN         10   \n",
       "1                NaN           NaN         11   \n",
       "2                NaN           NaN         32   \n",
       "3                              NaN         23   \n",
       "4                NaN           NaN         10   \n",
       "...              ...           ...        ...   \n",
       "194668                         NaN         24   \n",
       "194669                         NaN         13   \n",
       "194670                         NaN         28   \n",
       "194671                         NaN          5   \n",
       "194672                         NaN         14   \n",
       "\n",
       "                                               ST_COLDESC  \n",
       "0                                       Entering at angle  \n",
       "1       From same direction - both going straight - bo...  \n",
       "2                                  One parked--one moving  \n",
       "3                        From same direction - all others  \n",
       "4                                       Entering at angle  \n",
       "...                                                   ...  \n",
       "194668    From opposite direction - both moving - head-on  \n",
       "194669  From same direction - both going straight - bo...  \n",
       "194670  From opposite direction - one left turn - one ...  \n",
       "194671                       Vehicle Strikes Pedalcyclist  \n",
       "194672  From same direction - both going straight - on...  \n",
       "\n",
       "[194673 rows x 6 columns]"
      ]
     },
     "execution_count": 13,
     "metadata": {},
     "output_type": "execute_result"
    }
   ],
   "source": [
    "# Let's look at the pair columns: code-description\n",
    "pair_columns = 'SDOT_COLCODE,SDOT_COLDESC,EXCEPTRSNCODE,EXCEPTRSNDESC,ST_COLCODE,ST_COLDESC'.split(',')\n",
    "df[pair_columns]"
   ]
  },
  {
   "cell_type": "markdown",
   "metadata": {},
   "source": [
    "* In the above table, we see that __SDOT_COLCODE__ and __ST_COLCODE__, and __SDOT_COLDESC__ and __ST_COLDESC__ tells the same story from different perspectives.\n",
    "* Besides, __EXCEPTRSNCODE__ and __EXCEPTRSNDESC__ do not contain any information. Besides, there is no explanation provided about those variables in the Meta Data."
   ]
  },
  {
   "cell_type": "code",
   "execution_count": 14,
   "metadata": {
    "ExecuteTime": {
     "end_time": "2020-11-01T18:58:56.870255Z",
     "start_time": "2020-11-01T18:58:56.823384Z"
    }
   },
   "outputs": [
    {
     "data": {
      "text/html": [
       "<div>\n",
       "<style scoped>\n",
       "    .dataframe tbody tr th:only-of-type {\n",
       "        vertical-align: middle;\n",
       "    }\n",
       "\n",
       "    .dataframe tbody tr th {\n",
       "        vertical-align: top;\n",
       "    }\n",
       "\n",
       "    .dataframe thead th {\n",
       "        text-align: right;\n",
       "    }\n",
       "</style>\n",
       "<table border=\"1\" class=\"dataframe\">\n",
       "  <thead>\n",
       "    <tr style=\"text-align: right;\">\n",
       "      <th></th>\n",
       "      <th>CROSSWALKKEY</th>\n",
       "      <th>SEGLANEKEY</th>\n",
       "      <th>INTKEY</th>\n",
       "      <th>ADDRTYPE</th>\n",
       "    </tr>\n",
       "  </thead>\n",
       "  <tbody>\n",
       "    <tr>\n",
       "      <th>0</th>\n",
       "      <td>0</td>\n",
       "      <td>0</td>\n",
       "      <td>37475.0</td>\n",
       "      <td>Intersection</td>\n",
       "    </tr>\n",
       "    <tr>\n",
       "      <th>1</th>\n",
       "      <td>0</td>\n",
       "      <td>0</td>\n",
       "      <td>NaN</td>\n",
       "      <td>Block</td>\n",
       "    </tr>\n",
       "    <tr>\n",
       "      <th>2</th>\n",
       "      <td>0</td>\n",
       "      <td>0</td>\n",
       "      <td>NaN</td>\n",
       "      <td>Block</td>\n",
       "    </tr>\n",
       "    <tr>\n",
       "      <th>3</th>\n",
       "      <td>0</td>\n",
       "      <td>0</td>\n",
       "      <td>NaN</td>\n",
       "      <td>Block</td>\n",
       "    </tr>\n",
       "    <tr>\n",
       "      <th>4</th>\n",
       "      <td>0</td>\n",
       "      <td>0</td>\n",
       "      <td>34387.0</td>\n",
       "      <td>Intersection</td>\n",
       "    </tr>\n",
       "    <tr>\n",
       "      <th>...</th>\n",
       "      <td>...</td>\n",
       "      <td>...</td>\n",
       "      <td>...</td>\n",
       "      <td>...</td>\n",
       "    </tr>\n",
       "    <tr>\n",
       "      <th>194668</th>\n",
       "      <td>0</td>\n",
       "      <td>0</td>\n",
       "      <td>NaN</td>\n",
       "      <td>Block</td>\n",
       "    </tr>\n",
       "    <tr>\n",
       "      <th>194669</th>\n",
       "      <td>0</td>\n",
       "      <td>0</td>\n",
       "      <td>NaN</td>\n",
       "      <td>Block</td>\n",
       "    </tr>\n",
       "    <tr>\n",
       "      <th>194670</th>\n",
       "      <td>0</td>\n",
       "      <td>0</td>\n",
       "      <td>24760.0</td>\n",
       "      <td>Intersection</td>\n",
       "    </tr>\n",
       "    <tr>\n",
       "      <th>194671</th>\n",
       "      <td>0</td>\n",
       "      <td>4308</td>\n",
       "      <td>24349.0</td>\n",
       "      <td>Intersection</td>\n",
       "    </tr>\n",
       "    <tr>\n",
       "      <th>194672</th>\n",
       "      <td>0</td>\n",
       "      <td>0</td>\n",
       "      <td>NaN</td>\n",
       "      <td>Block</td>\n",
       "    </tr>\n",
       "  </tbody>\n",
       "</table>\n",
       "<p>194673 rows × 4 columns</p>\n",
       "</div>"
      ],
      "text/plain": [
       "        CROSSWALKKEY  SEGLANEKEY   INTKEY      ADDRTYPE\n",
       "0                  0           0  37475.0  Intersection\n",
       "1                  0           0      NaN         Block\n",
       "2                  0           0      NaN         Block\n",
       "3                  0           0      NaN         Block\n",
       "4                  0           0  34387.0  Intersection\n",
       "...              ...         ...      ...           ...\n",
       "194668             0           0      NaN         Block\n",
       "194669             0           0      NaN         Block\n",
       "194670             0           0  24760.0  Intersection\n",
       "194671             0        4308  24349.0  Intersection\n",
       "194672             0           0      NaN         Block\n",
       "\n",
       "[194673 rows x 4 columns]"
      ]
     },
     "execution_count": 14,
     "metadata": {},
     "output_type": "execute_result"
    }
   ],
   "source": [
    "# Let's look at the KEY variables\n",
    "keys = 'CROSSWALKKEY,SEGLANEKEY,INTKEY,ADDRTYPE'.split(',')\n",
    "df[keys]"
   ]
  },
  {
   "cell_type": "markdown",
   "metadata": {},
   "source": [
    "* In the table about frequencies and missing values, we see that __CROSSWALKKEY__ and __SEGLANEKEY__ do not contain any missing values but __INTKEY__ contains. The reason for that is all missing values in __CROSSWALKKEY__ and __SEGLANEKEY__ are coded `0`. \n",
    "* The idea about the key features is that they are given identification numbers for the particular area where the collision happened. For example, __CROSSWALKKEY__ has keys for the _crosswalks_ where the collisions occurred as __SEGLANEKEY__ and __INTKEY__.\n",
    "* For this reason, it is possible to convert those variables into dummy variables by combining all keys into a single category."
   ]
  },
  {
   "cell_type": "code",
   "execution_count": 15,
   "metadata": {
    "ExecuteTime": {
     "end_time": "2020-11-01T18:58:56.908025Z",
     "start_time": "2020-11-01T18:58:56.870255Z"
    }
   },
   "outputs": [
    {
     "data": {
      "text/html": [
       "<div>\n",
       "<style scoped>\n",
       "    .dataframe tbody tr th:only-of-type {\n",
       "        vertical-align: middle;\n",
       "    }\n",
       "\n",
       "    .dataframe tbody tr th {\n",
       "        vertical-align: top;\n",
       "    }\n",
       "\n",
       "    .dataframe thead th {\n",
       "        text-align: right;\n",
       "    }\n",
       "</style>\n",
       "<table border=\"1\" class=\"dataframe\">\n",
       "  <thead>\n",
       "    <tr style=\"text-align: right;\">\n",
       "      <th></th>\n",
       "      <th>PERSONCOUNT</th>\n",
       "      <th>VEHCOUNT</th>\n",
       "      <th>PEDCOUNT</th>\n",
       "      <th>PEDCYLCOUNT</th>\n",
       "    </tr>\n",
       "  </thead>\n",
       "  <tbody>\n",
       "    <tr>\n",
       "      <th>0</th>\n",
       "      <td>2</td>\n",
       "      <td>2</td>\n",
       "      <td>0</td>\n",
       "      <td>0</td>\n",
       "    </tr>\n",
       "    <tr>\n",
       "      <th>1</th>\n",
       "      <td>2</td>\n",
       "      <td>2</td>\n",
       "      <td>0</td>\n",
       "      <td>0</td>\n",
       "    </tr>\n",
       "    <tr>\n",
       "      <th>2</th>\n",
       "      <td>4</td>\n",
       "      <td>3</td>\n",
       "      <td>0</td>\n",
       "      <td>0</td>\n",
       "    </tr>\n",
       "    <tr>\n",
       "      <th>3</th>\n",
       "      <td>3</td>\n",
       "      <td>3</td>\n",
       "      <td>0</td>\n",
       "      <td>0</td>\n",
       "    </tr>\n",
       "    <tr>\n",
       "      <th>4</th>\n",
       "      <td>2</td>\n",
       "      <td>2</td>\n",
       "      <td>0</td>\n",
       "      <td>0</td>\n",
       "    </tr>\n",
       "    <tr>\n",
       "      <th>...</th>\n",
       "      <td>...</td>\n",
       "      <td>...</td>\n",
       "      <td>...</td>\n",
       "      <td>...</td>\n",
       "    </tr>\n",
       "    <tr>\n",
       "      <th>194668</th>\n",
       "      <td>3</td>\n",
       "      <td>2</td>\n",
       "      <td>0</td>\n",
       "      <td>0</td>\n",
       "    </tr>\n",
       "    <tr>\n",
       "      <th>194669</th>\n",
       "      <td>2</td>\n",
       "      <td>2</td>\n",
       "      <td>0</td>\n",
       "      <td>0</td>\n",
       "    </tr>\n",
       "    <tr>\n",
       "      <th>194670</th>\n",
       "      <td>3</td>\n",
       "      <td>2</td>\n",
       "      <td>0</td>\n",
       "      <td>0</td>\n",
       "    </tr>\n",
       "    <tr>\n",
       "      <th>194671</th>\n",
       "      <td>2</td>\n",
       "      <td>1</td>\n",
       "      <td>0</td>\n",
       "      <td>1</td>\n",
       "    </tr>\n",
       "    <tr>\n",
       "      <th>194672</th>\n",
       "      <td>2</td>\n",
       "      <td>2</td>\n",
       "      <td>0</td>\n",
       "      <td>0</td>\n",
       "    </tr>\n",
       "  </tbody>\n",
       "</table>\n",
       "<p>194673 rows × 4 columns</p>\n",
       "</div>"
      ],
      "text/plain": [
       "        PERSONCOUNT  VEHCOUNT  PEDCOUNT  PEDCYLCOUNT\n",
       "0                 2         2         0            0\n",
       "1                 2         2         0            0\n",
       "2                 4         3         0            0\n",
       "3                 3         3         0            0\n",
       "4                 2         2         0            0\n",
       "...             ...       ...       ...          ...\n",
       "194668            3         2         0            0\n",
       "194669            2         2         0            0\n",
       "194670            3         2         0            0\n",
       "194671            2         1         0            1\n",
       "194672            2         2         0            0\n",
       "\n",
       "[194673 rows x 4 columns]"
      ]
     },
     "execution_count": 15,
     "metadata": {},
     "output_type": "execute_result"
    }
   ],
   "source": [
    "counts = 'PERSONCOUNT,VEHCOUNT,PEDCOUNT,PEDCYLCOUNT'.split(',')\n",
    "df[counts]"
   ]
  },
  {
   "cell_type": "markdown",
   "metadata": {},
   "source": [
    "* There are no missing values for the above features so that we leave them as is."
   ]
  },
  {
   "cell_type": "code",
   "execution_count": 16,
   "metadata": {
    "ExecuteTime": {
     "end_time": "2020-11-01T18:58:57.008292Z",
     "start_time": "2020-11-01T18:58:56.908025Z"
    },
    "scrolled": false
   },
   "outputs": [
    {
     "data": {
      "text/plain": [
       "N    187457\n",
       "Y      7216\n",
       "Name: HITPARKEDCAR, dtype: int64"
      ]
     },
     "metadata": {},
     "output_type": "display_data"
    },
    {
     "data": {
      "text/plain": [
       "array(['N', 'Y'], dtype=object)"
      ]
     },
     "metadata": {},
     "output_type": "display_data"
    }
   ],
   "source": [
    "display(df.HITPARKEDCAR.value_counts())\n",
    "display(df.HITPARKEDCAR.unique())"
   ]
  },
  {
   "cell_type": "code",
   "execution_count": 17,
   "metadata": {
    "ExecuteTime": {
     "end_time": "2020-11-01T18:58:57.086415Z",
     "start_time": "2020-11-01T18:58:57.008292Z"
    }
   },
   "outputs": [
    {
     "data": {
      "text/plain": [
       "Block           126926\n",
       "Intersection     65070\n",
       "Alley              751\n",
       "Name: ADDRTYPE, dtype: int64"
      ]
     },
     "metadata": {},
     "output_type": "display_data"
    },
    {
     "data": {
      "text/plain": [
       "array(['Intersection', 'Block', 'Alley', nan], dtype=object)"
      ]
     },
     "metadata": {},
     "output_type": "display_data"
    }
   ],
   "source": [
    "display(df.ADDRTYPE.value_counts())\n",
    "display(df.ADDRTYPE.unique())"
   ]
  },
  {
   "cell_type": "code",
   "execution_count": 18,
   "metadata": {
    "ExecuteTime": {
     "end_time": "2020-11-01T18:58:57.155428Z",
     "start_time": "2020-11-01T18:58:57.086415Z"
    }
   },
   "outputs": [
    {
     "data": {
      "text/plain": [
       "N    100274\n",
       "0     80394\n",
       "Y      5126\n",
       "1      3995\n",
       "Name: UNDERINFL, dtype: int64"
      ]
     },
     "metadata": {},
     "output_type": "display_data"
    },
    {
     "data": {
      "text/plain": [
       "array(['N', '0', nan, '1', 'Y'], dtype=object)"
      ]
     },
     "metadata": {},
     "output_type": "display_data"
    }
   ],
   "source": [
    "display(df.UNDERINFL.value_counts())\n",
    "display(df.UNDERINFL.unique())"
   ]
  },
  {
   "cell_type": "code",
   "execution_count": 19,
   "metadata": {
    "ExecuteTime": {
     "end_time": "2020-11-01T18:58:57.240069Z",
     "start_time": "2020-11-01T18:58:57.155428Z"
    },
    "scrolled": true
   },
   "outputs": [
    {
     "data": {
      "text/plain": [
       "Parked Car    47987\n",
       "Angles        34674\n",
       "Rear Ended    34090\n",
       "Other         23703\n",
       "Sideswipe     18609\n",
       "Left Turn     13703\n",
       "Pedestrian     6608\n",
       "Cycles         5415\n",
       "Right Turn     2956\n",
       "Head On        2024\n",
       "Name: COLLISIONTYPE, dtype: int64"
      ]
     },
     "metadata": {},
     "output_type": "display_data"
    },
    {
     "data": {
      "text/plain": [
       "array(['Angles', 'Sideswipe', 'Parked Car', 'Other', 'Cycles',\n",
       "       'Rear Ended', 'Head On', nan, 'Left Turn', 'Pedestrian',\n",
       "       'Right Turn'], dtype=object)"
      ]
     },
     "metadata": {},
     "output_type": "display_data"
    }
   ],
   "source": [
    "display(df.COLLISIONTYPE.value_counts())\n",
    "display(df.COLLISIONTYPE.unique())"
   ]
  },
  {
   "cell_type": "markdown",
   "metadata": {},
   "source": [
    "## Clean the Data"
   ]
  },
  {
   "cell_type": "code",
   "execution_count": 20,
   "metadata": {
    "ExecuteTime": {
     "end_time": "2020-11-01T18:58:57.355959Z",
     "start_time": "2020-11-01T18:58:57.240069Z"
    }
   },
   "outputs": [
    {
     "data": {
      "text/html": [
       "<div>\n",
       "<style scoped>\n",
       "    .dataframe tbody tr th:only-of-type {\n",
       "        vertical-align: middle;\n",
       "    }\n",
       "\n",
       "    .dataframe tbody tr th {\n",
       "        vertical-align: top;\n",
       "    }\n",
       "\n",
       "    .dataframe thead th {\n",
       "        text-align: right;\n",
       "    }\n",
       "</style>\n",
       "<table border=\"1\" class=\"dataframe\">\n",
       "  <thead>\n",
       "    <tr style=\"text-align: right;\">\n",
       "      <th></th>\n",
       "      <th>SEVERITYCODE</th>\n",
       "      <th>X</th>\n",
       "      <th>Y</th>\n",
       "      <th>STATUS</th>\n",
       "      <th>ADDRTYPE</th>\n",
       "      <th>INTKEY</th>\n",
       "      <th>LOCATION</th>\n",
       "      <th>COLLISIONTYPE</th>\n",
       "      <th>PERSONCOUNT</th>\n",
       "      <th>PEDCOUNT</th>\n",
       "      <th>PEDCYLCOUNT</th>\n",
       "      <th>VEHCOUNT</th>\n",
       "      <th>INCDTTM</th>\n",
       "      <th>JUNCTIONTYPE</th>\n",
       "      <th>SDOT_COLCODE</th>\n",
       "      <th>SDOT_COLDESC</th>\n",
       "      <th>INATTENTIONIND</th>\n",
       "      <th>UNDERINFL</th>\n",
       "      <th>WEATHER</th>\n",
       "      <th>ROADCOND</th>\n",
       "      <th>LIGHTCOND</th>\n",
       "      <th>PEDROWNOTGRNT</th>\n",
       "      <th>SPEEDING</th>\n",
       "      <th>ST_COLDESC</th>\n",
       "      <th>SEGLANEKEY</th>\n",
       "      <th>CROSSWALKKEY</th>\n",
       "      <th>HITPARKEDCAR</th>\n",
       "    </tr>\n",
       "  </thead>\n",
       "  <tbody>\n",
       "    <tr>\n",
       "      <th>0</th>\n",
       "      <td>2</td>\n",
       "      <td>-122.323148</td>\n",
       "      <td>47.703140</td>\n",
       "      <td>Matched</td>\n",
       "      <td>Intersection</td>\n",
       "      <td>37475.0</td>\n",
       "      <td>5TH AVE NE AND NE 103RD ST</td>\n",
       "      <td>Angles</td>\n",
       "      <td>2</td>\n",
       "      <td>0</td>\n",
       "      <td>0</td>\n",
       "      <td>2</td>\n",
       "      <td>3/27/2013 2:54:00 PM</td>\n",
       "      <td>At Intersection (intersection related)</td>\n",
       "      <td>11</td>\n",
       "      <td>MOTOR VEHICLE STRUCK MOTOR VEHICLE, FRONT END ...</td>\n",
       "      <td>NaN</td>\n",
       "      <td>N</td>\n",
       "      <td>Overcast</td>\n",
       "      <td>Wet</td>\n",
       "      <td>Daylight</td>\n",
       "      <td>NaN</td>\n",
       "      <td>NaN</td>\n",
       "      <td>Entering at angle</td>\n",
       "      <td>0</td>\n",
       "      <td>0</td>\n",
       "      <td>N</td>\n",
       "    </tr>\n",
       "    <tr>\n",
       "      <th>1</th>\n",
       "      <td>1</td>\n",
       "      <td>-122.347294</td>\n",
       "      <td>47.647172</td>\n",
       "      <td>Matched</td>\n",
       "      <td>Block</td>\n",
       "      <td>NaN</td>\n",
       "      <td>AURORA BR BETWEEN RAYE ST AND BRIDGE WAY N</td>\n",
       "      <td>Sideswipe</td>\n",
       "      <td>2</td>\n",
       "      <td>0</td>\n",
       "      <td>0</td>\n",
       "      <td>2</td>\n",
       "      <td>12/20/2006 6:55:00 PM</td>\n",
       "      <td>Mid-Block (not related to intersection)</td>\n",
       "      <td>16</td>\n",
       "      <td>MOTOR VEHICLE STRUCK MOTOR VEHICLE, LEFT SIDE ...</td>\n",
       "      <td>NaN</td>\n",
       "      <td>0</td>\n",
       "      <td>Raining</td>\n",
       "      <td>Wet</td>\n",
       "      <td>Dark - Street Lights On</td>\n",
       "      <td>NaN</td>\n",
       "      <td>NaN</td>\n",
       "      <td>From same direction - both going straight - bo...</td>\n",
       "      <td>0</td>\n",
       "      <td>0</td>\n",
       "      <td>N</td>\n",
       "    </tr>\n",
       "    <tr>\n",
       "      <th>2</th>\n",
       "      <td>1</td>\n",
       "      <td>-122.334540</td>\n",
       "      <td>47.607871</td>\n",
       "      <td>Matched</td>\n",
       "      <td>Block</td>\n",
       "      <td>NaN</td>\n",
       "      <td>4TH AVE BETWEEN SENECA ST AND UNIVERSITY ST</td>\n",
       "      <td>Parked Car</td>\n",
       "      <td>4</td>\n",
       "      <td>0</td>\n",
       "      <td>0</td>\n",
       "      <td>3</td>\n",
       "      <td>11/18/2004 10:20:00 AM</td>\n",
       "      <td>Mid-Block (not related to intersection)</td>\n",
       "      <td>14</td>\n",
       "      <td>MOTOR VEHICLE STRUCK MOTOR VEHICLE, REAR END</td>\n",
       "      <td>NaN</td>\n",
       "      <td>0</td>\n",
       "      <td>Overcast</td>\n",
       "      <td>Dry</td>\n",
       "      <td>Daylight</td>\n",
       "      <td>NaN</td>\n",
       "      <td>NaN</td>\n",
       "      <td>One parked--one moving</td>\n",
       "      <td>0</td>\n",
       "      <td>0</td>\n",
       "      <td>N</td>\n",
       "    </tr>\n",
       "    <tr>\n",
       "      <th>3</th>\n",
       "      <td>1</td>\n",
       "      <td>-122.334803</td>\n",
       "      <td>47.604803</td>\n",
       "      <td>Matched</td>\n",
       "      <td>Block</td>\n",
       "      <td>NaN</td>\n",
       "      <td>2ND AVE BETWEEN MARION ST AND MADISON ST</td>\n",
       "      <td>Other</td>\n",
       "      <td>3</td>\n",
       "      <td>0</td>\n",
       "      <td>0</td>\n",
       "      <td>3</td>\n",
       "      <td>3/29/2013 9:26:00 AM</td>\n",
       "      <td>Mid-Block (not related to intersection)</td>\n",
       "      <td>11</td>\n",
       "      <td>MOTOR VEHICLE STRUCK MOTOR VEHICLE, FRONT END ...</td>\n",
       "      <td>NaN</td>\n",
       "      <td>N</td>\n",
       "      <td>Clear</td>\n",
       "      <td>Dry</td>\n",
       "      <td>Daylight</td>\n",
       "      <td>NaN</td>\n",
       "      <td>NaN</td>\n",
       "      <td>From same direction - all others</td>\n",
       "      <td>0</td>\n",
       "      <td>0</td>\n",
       "      <td>N</td>\n",
       "    </tr>\n",
       "    <tr>\n",
       "      <th>4</th>\n",
       "      <td>2</td>\n",
       "      <td>-122.306426</td>\n",
       "      <td>47.545739</td>\n",
       "      <td>Matched</td>\n",
       "      <td>Intersection</td>\n",
       "      <td>34387.0</td>\n",
       "      <td>SWIFT AVE S AND SWIFT AV OFF RP</td>\n",
       "      <td>Angles</td>\n",
       "      <td>2</td>\n",
       "      <td>0</td>\n",
       "      <td>0</td>\n",
       "      <td>2</td>\n",
       "      <td>1/28/2004 8:04:00 AM</td>\n",
       "      <td>At Intersection (intersection related)</td>\n",
       "      <td>11</td>\n",
       "      <td>MOTOR VEHICLE STRUCK MOTOR VEHICLE, FRONT END ...</td>\n",
       "      <td>NaN</td>\n",
       "      <td>0</td>\n",
       "      <td>Raining</td>\n",
       "      <td>Wet</td>\n",
       "      <td>Daylight</td>\n",
       "      <td>NaN</td>\n",
       "      <td>NaN</td>\n",
       "      <td>Entering at angle</td>\n",
       "      <td>0</td>\n",
       "      <td>0</td>\n",
       "      <td>N</td>\n",
       "    </tr>\n",
       "  </tbody>\n",
       "</table>\n",
       "</div>"
      ],
      "text/plain": [
       "   SEVERITYCODE           X          Y   STATUS      ADDRTYPE   INTKEY  \\\n",
       "0             2 -122.323148  47.703140  Matched  Intersection  37475.0   \n",
       "1             1 -122.347294  47.647172  Matched         Block      NaN   \n",
       "2             1 -122.334540  47.607871  Matched         Block      NaN   \n",
       "3             1 -122.334803  47.604803  Matched         Block      NaN   \n",
       "4             2 -122.306426  47.545739  Matched  Intersection  34387.0   \n",
       "\n",
       "                                      LOCATION COLLISIONTYPE  PERSONCOUNT  \\\n",
       "0                   5TH AVE NE AND NE 103RD ST        Angles            2   \n",
       "1   AURORA BR BETWEEN RAYE ST AND BRIDGE WAY N     Sideswipe            2   \n",
       "2  4TH AVE BETWEEN SENECA ST AND UNIVERSITY ST    Parked Car            4   \n",
       "3     2ND AVE BETWEEN MARION ST AND MADISON ST         Other            3   \n",
       "4              SWIFT AVE S AND SWIFT AV OFF RP        Angles            2   \n",
       "\n",
       "   PEDCOUNT  PEDCYLCOUNT  VEHCOUNT                 INCDTTM  \\\n",
       "0         0            0         2    3/27/2013 2:54:00 PM   \n",
       "1         0            0         2   12/20/2006 6:55:00 PM   \n",
       "2         0            0         3  11/18/2004 10:20:00 AM   \n",
       "3         0            0         3    3/29/2013 9:26:00 AM   \n",
       "4         0            0         2    1/28/2004 8:04:00 AM   \n",
       "\n",
       "                              JUNCTIONTYPE  SDOT_COLCODE  \\\n",
       "0   At Intersection (intersection related)            11   \n",
       "1  Mid-Block (not related to intersection)            16   \n",
       "2  Mid-Block (not related to intersection)            14   \n",
       "3  Mid-Block (not related to intersection)            11   \n",
       "4   At Intersection (intersection related)            11   \n",
       "\n",
       "                                        SDOT_COLDESC INATTENTIONIND UNDERINFL  \\\n",
       "0  MOTOR VEHICLE STRUCK MOTOR VEHICLE, FRONT END ...            NaN         N   \n",
       "1  MOTOR VEHICLE STRUCK MOTOR VEHICLE, LEFT SIDE ...            NaN         0   \n",
       "2       MOTOR VEHICLE STRUCK MOTOR VEHICLE, REAR END            NaN         0   \n",
       "3  MOTOR VEHICLE STRUCK MOTOR VEHICLE, FRONT END ...            NaN         N   \n",
       "4  MOTOR VEHICLE STRUCK MOTOR VEHICLE, FRONT END ...            NaN         0   \n",
       "\n",
       "    WEATHER ROADCOND                LIGHTCOND PEDROWNOTGRNT SPEEDING  \\\n",
       "0  Overcast      Wet                 Daylight           NaN      NaN   \n",
       "1   Raining      Wet  Dark - Street Lights On           NaN      NaN   \n",
       "2  Overcast      Dry                 Daylight           NaN      NaN   \n",
       "3     Clear      Dry                 Daylight           NaN      NaN   \n",
       "4   Raining      Wet                 Daylight           NaN      NaN   \n",
       "\n",
       "                                          ST_COLDESC  SEGLANEKEY  \\\n",
       "0                                  Entering at angle           0   \n",
       "1  From same direction - both going straight - bo...           0   \n",
       "2                             One parked--one moving           0   \n",
       "3                   From same direction - all others           0   \n",
       "4                                  Entering at angle           0   \n",
       "\n",
       "   CROSSWALKKEY HITPARKEDCAR  \n",
       "0             0            N  \n",
       "1             0            N  \n",
       "2             0            N  \n",
       "3             0            N  \n",
       "4             0            N  "
      ]
     },
     "execution_count": 20,
     "metadata": {},
     "output_type": "execute_result"
    }
   ],
   "source": [
    "to_drop = 'OBJECTID,INCKEY,COLDETKEY,REPORTNO,SDOTCOLNUM,EXCEPTRSNCODE'.split(',')\n",
    "to_drop.extend('EXCEPTRSNDESC,SEVERITYDESC,SEVERITYCODE.1,INCDATE,ST_COLCODE'.split(','))\n",
    "df_clean = df.drop(to_drop, axis=1)\n",
    "df_clean.head()"
   ]
  },
  {
   "cell_type": "code",
   "execution_count": 21,
   "metadata": {
    "ExecuteTime": {
     "end_time": "2020-11-01T18:58:57.387209Z",
     "start_time": "2020-11-01T18:58:57.355959Z"
    },
    "scrolled": true
   },
   "outputs": [
    {
     "data": {
      "text/plain": [
       "'SEVERITYCODE, X, Y, STATUS, ADDRTYPE, INTKEY, LOCATION, COLLISIONTYPE, PERSONCOUNT, PEDCOUNT, PEDCYLCOUNT, VEHCOUNT, INCDTTM, JUNCTIONTYPE, SDOT_COLCODE, SDOT_COLDESC, INATTENTIONIND, UNDERINFL, WEATHER, ROADCOND, LIGHTCOND, PEDROWNOTGRNT, SPEEDING, ST_COLDESC, SEGLANEKEY, CROSSWALKKEY, HITPARKEDCAR'"
      ]
     },
     "execution_count": 21,
     "metadata": {},
     "output_type": "execute_result"
    }
   ],
   "source": [
    "', '.join([column for column in df_clean.columns])"
   ]
  },
  {
   "cell_type": "markdown",
   "metadata": {},
   "source": [
    "### Categorical Variables"
   ]
  },
  {
   "cell_type": "markdown",
   "metadata": {},
   "source": [
    "* Regarding the categorical variables, we have to decide how we will keep them in the data. One way is to keep them as they are; however, it may not be the best practice. Because, when we have closer look to the categorical variables, we see that there is a dominant category and there are mostly rare levels (levels that are less than 5%).\n",
    "* It is possible to convert categorical variables into dummy variables but this kind of approach with current categorical variables will result with a sparse data structure. However, it is not beneficial to have a sparse data with machine learning algorithms.\n",
    "* For this reason, we will consolidate the rare levels and convert the categorical variables into binary variables.\n",
    "* Another problem is missing values with the categorical variables, however; it is ok to replace the missing values with the most frequent values since there is a great difference between the dominant levels and the secondary levels."
   ]
  },
  {
   "cell_type": "code",
   "execution_count": 22,
   "metadata": {
    "ExecuteTime": {
     "end_time": "2020-11-01T18:58:57.910672Z",
     "start_time": "2020-11-01T18:58:57.393716Z"
    }
   },
   "outputs": [],
   "source": [
    "df_clean.fillna('NA', inplace=True)\n",
    "df_clean.replace(to_replace=' ', value='NA', inplace=True)"
   ]
  },
  {
   "cell_type": "code",
   "execution_count": 23,
   "metadata": {
    "ExecuteTime": {
     "end_time": "2020-11-01T18:58:57.926298Z",
     "start_time": "2020-11-01T18:58:57.910672Z"
    }
   },
   "outputs": [],
   "source": [
    "def get_frequency(df, column):\n",
    "    t_freq = [round((df[df[column] == value].shape[0] / df.shape[0]) * 100, 3)\n",
    "             for value in df[column].unique()]\n",
    "    temp1 = pd.DataFrame({'freq': t_freq}, index=df[column].unique())\n",
    "    return temp1"
   ]
  },
  {
   "cell_type": "code",
   "execution_count": 24,
   "metadata": {
    "ExecuteTime": {
     "end_time": "2020-11-01T18:58:57.957546Z",
     "start_time": "2020-11-01T18:58:57.926298Z"
    }
   },
   "outputs": [],
   "source": [
    "def get_summary(df, column):\n",
    "    temp = df.groupby(['SEVERITYCODE',\n",
    "                       column]).size().rename('count').to_frame()\n",
    "    temp = temp.reset_index(level=1).pivot(columns=column)\n",
    "    temp.T.plot.bar()\n",
    "    return temp"
   ]
  },
  {
   "cell_type": "markdown",
   "metadata": {},
   "source": [
    "##addrtype"
   ]
  },
  {
   "cell_type": "code",
   "execution_count": 25,
   "metadata": {
    "ExecuteTime": {
     "end_time": "2020-11-01T18:58:58.289596Z",
     "start_time": "2020-11-01T18:58:57.957546Z"
    }
   },
   "outputs": [
    {
     "data": {
      "text/html": [
       "<div>\n",
       "<style scoped>\n",
       "    .dataframe tbody tr th:only-of-type {\n",
       "        vertical-align: middle;\n",
       "    }\n",
       "\n",
       "    .dataframe tbody tr th {\n",
       "        vertical-align: top;\n",
       "    }\n",
       "\n",
       "    .dataframe thead th {\n",
       "        text-align: right;\n",
       "    }\n",
       "</style>\n",
       "<table border=\"1\" class=\"dataframe\">\n",
       "  <thead>\n",
       "    <tr style=\"text-align: right;\">\n",
       "      <th></th>\n",
       "      <th>freq</th>\n",
       "    </tr>\n",
       "  </thead>\n",
       "  <tbody>\n",
       "    <tr>\n",
       "      <th>Intersection</th>\n",
       "      <td>33.425</td>\n",
       "    </tr>\n",
       "    <tr>\n",
       "      <th>Block</th>\n",
       "      <td>65.200</td>\n",
       "    </tr>\n",
       "    <tr>\n",
       "      <th>Alley</th>\n",
       "      <td>0.386</td>\n",
       "    </tr>\n",
       "    <tr>\n",
       "      <th>NA</th>\n",
       "      <td>0.989</td>\n",
       "    </tr>\n",
       "  </tbody>\n",
       "</table>\n",
       "</div>"
      ],
      "text/plain": [
       "                freq\n",
       "Intersection  33.425\n",
       "Block         65.200\n",
       "Alley          0.386\n",
       "NA             0.989"
      ]
     },
     "execution_count": 25,
     "metadata": {},
     "output_type": "execute_result"
    }
   ],
   "source": [
    "get_frequency(df_clean, 'ADDRTYPE')"
   ]
  },
  {
   "cell_type": "code",
   "execution_count": 26,
   "metadata": {
    "ExecuteTime": {
     "end_time": "2020-11-01T18:58:58.790928Z",
     "start_time": "2020-11-01T18:58:58.289596Z"
    }
   },
   "outputs": [
    {
     "data": {
      "text/html": [
       "<div>\n",
       "<style scoped>\n",
       "    .dataframe tbody tr th:only-of-type {\n",
       "        vertical-align: middle;\n",
       "    }\n",
       "\n",
       "    .dataframe tbody tr th {\n",
       "        vertical-align: top;\n",
       "    }\n",
       "\n",
       "    .dataframe thead tr th {\n",
       "        text-align: left;\n",
       "    }\n",
       "\n",
       "    .dataframe thead tr:last-of-type th {\n",
       "        text-align: right;\n",
       "    }\n",
       "</style>\n",
       "<table border=\"1\" class=\"dataframe\">\n",
       "  <thead>\n",
       "    <tr>\n",
       "      <th></th>\n",
       "      <th colspan=\"4\" halign=\"left\">count</th>\n",
       "    </tr>\n",
       "    <tr>\n",
       "      <th>ADDRTYPE</th>\n",
       "      <th>Alley</th>\n",
       "      <th>Block</th>\n",
       "      <th>Intersection</th>\n",
       "      <th>NA</th>\n",
       "    </tr>\n",
       "    <tr>\n",
       "      <th>SEVERITYCODE</th>\n",
       "      <th></th>\n",
       "      <th></th>\n",
       "      <th></th>\n",
       "      <th></th>\n",
       "    </tr>\n",
       "  </thead>\n",
       "  <tbody>\n",
       "    <tr>\n",
       "      <th>1</th>\n",
       "      <td>669</td>\n",
       "      <td>96830</td>\n",
       "      <td>37251</td>\n",
       "      <td>1735</td>\n",
       "    </tr>\n",
       "    <tr>\n",
       "      <th>2</th>\n",
       "      <td>82</td>\n",
       "      <td>30096</td>\n",
       "      <td>27819</td>\n",
       "      <td>191</td>\n",
       "    </tr>\n",
       "  </tbody>\n",
       "</table>\n",
       "</div>"
      ],
      "text/plain": [
       "             count                          \n",
       "ADDRTYPE     Alley  Block Intersection    NA\n",
       "SEVERITYCODE                                \n",
       "1              669  96830        37251  1735\n",
       "2               82  30096        27819   191"
      ]
     },
     "execution_count": 26,
     "metadata": {},
     "output_type": "execute_result"
    },
    {
     "data": {
      "image/png": "[encoded data removed]",
      "text/plain": [
       "<Figure size 432x288 with 1 Axes>"
      ]
     },
     "metadata": {
      "needs_background": "light"
     },
     "output_type": "display_data"
    }
   ],
   "source": [
    "get_summary(df_clean, 'ADDRTYPE')"
   ]
  },
  {
   "cell_type": "markdown",
   "metadata": {},
   "source": [
    "* `addrtype` feature has 3 levels but the most dominant level is __Block__. Moreover, the __Alley__ level is the rarest one and it can be combined with __Block__ since they both have similar class distributions. Finally, the best way to deal with the missing values is to replace them with the most frequent value."
   ]
  },
  {
   "cell_type": "code",
   "execution_count": 27,
   "metadata": {
    "ExecuteTime": {
     "end_time": "2020-11-01T18:58:58.875568Z",
     "start_time": "2020-11-01T18:58:58.790928Z"
    }
   },
   "outputs": [],
   "source": [
    "df_clean.ADDRTYPE = np.where(df_clean.ADDRTYPE == 'NA',\n",
    "                             df_clean.ADDRTYPE.mode(), df_clean.ADDRTYPE)\n",
    "df_clean.ADDRTYPE = np.where(df_clean.ADDRTYPE == 'Alley', 'Block',\n",
    "                             df_clean.ADDRTYPE)"
   ]
  },
  {
   "cell_type": "markdown",
   "metadata": {},
   "source": [
    "##collisiontype"
   ]
  },
  {
   "cell_type": "code",
   "execution_count": 28,
   "metadata": {
    "ExecuteTime": {
     "end_time": "2020-11-01T18:58:59.292248Z",
     "start_time": "2020-11-01T18:58:58.875568Z"
    }
   },
   "outputs": [
    {
     "data": {
      "text/html": [
       "<div>\n",
       "<style scoped>\n",
       "    .dataframe tbody tr th:only-of-type {\n",
       "        vertical-align: middle;\n",
       "    }\n",
       "\n",
       "    .dataframe tbody tr th {\n",
       "        vertical-align: top;\n",
       "    }\n",
       "\n",
       "    .dataframe thead th {\n",
       "        text-align: right;\n",
       "    }\n",
       "</style>\n",
       "<table border=\"1\" class=\"dataframe\">\n",
       "  <thead>\n",
       "    <tr style=\"text-align: right;\">\n",
       "      <th></th>\n",
       "      <th>freq</th>\n",
       "    </tr>\n",
       "  </thead>\n",
       "  <tbody>\n",
       "    <tr>\n",
       "      <th>Angles</th>\n",
       "      <td>17.811</td>\n",
       "    </tr>\n",
       "    <tr>\n",
       "      <th>Sideswipe</th>\n",
       "      <td>9.559</td>\n",
       "    </tr>\n",
       "    <tr>\n",
       "      <th>Parked Car</th>\n",
       "      <td>24.650</td>\n",
       "    </tr>\n",
       "    <tr>\n",
       "      <th>Other</th>\n",
       "      <td>12.176</td>\n",
       "    </tr>\n",
       "    <tr>\n",
       "      <th>Cycles</th>\n",
       "      <td>2.782</td>\n",
       "    </tr>\n",
       "    <tr>\n",
       "      <th>Rear Ended</th>\n",
       "      <td>17.511</td>\n",
       "    </tr>\n",
       "    <tr>\n",
       "      <th>Head On</th>\n",
       "      <td>1.040</td>\n",
       "    </tr>\n",
       "    <tr>\n",
       "      <th>NA</th>\n",
       "      <td>2.519</td>\n",
       "    </tr>\n",
       "    <tr>\n",
       "      <th>Left Turn</th>\n",
       "      <td>7.039</td>\n",
       "    </tr>\n",
       "    <tr>\n",
       "      <th>Pedestrian</th>\n",
       "      <td>3.394</td>\n",
       "    </tr>\n",
       "    <tr>\n",
       "      <th>Right Turn</th>\n",
       "      <td>1.518</td>\n",
       "    </tr>\n",
       "  </tbody>\n",
       "</table>\n",
       "</div>"
      ],
      "text/plain": [
       "              freq\n",
       "Angles      17.811\n",
       "Sideswipe    9.559\n",
       "Parked Car  24.650\n",
       "Other       12.176\n",
       "Cycles       2.782\n",
       "Rear Ended  17.511\n",
       "Head On      1.040\n",
       "NA           2.519\n",
       "Left Turn    7.039\n",
       "Pedestrian   3.394\n",
       "Right Turn   1.518"
      ]
     },
     "execution_count": 28,
     "metadata": {},
     "output_type": "execute_result"
    }
   ],
   "source": [
    "get_frequency(df_clean, 'COLLISIONTYPE')"
   ]
  },
  {
   "cell_type": "code",
   "execution_count": 29,
   "metadata": {
    "ExecuteTime": {
     "end_time": "2020-11-01T18:58:59.746702Z",
     "start_time": "2020-11-01T18:58:59.292248Z"
    },
    "scrolled": false
   },
   "outputs": [
    {
     "data": {
      "text/html": [
       "<div>\n",
       "<style scoped>\n",
       "    .dataframe tbody tr th:only-of-type {\n",
       "        vertical-align: middle;\n",
       "    }\n",
       "\n",
       "    .dataframe tbody tr th {\n",
       "        vertical-align: top;\n",
       "    }\n",
       "\n",
       "    .dataframe thead tr th {\n",
       "        text-align: left;\n",
       "    }\n",
       "\n",
       "    .dataframe thead tr:last-of-type th {\n",
       "        text-align: right;\n",
       "    }\n",
       "</style>\n",
       "<table border=\"1\" class=\"dataframe\">\n",
       "  <thead>\n",
       "    <tr>\n",
       "      <th></th>\n",
       "      <th colspan=\"11\" halign=\"left\">count</th>\n",
       "    </tr>\n",
       "    <tr>\n",
       "      <th>COLLISIONTYPE</th>\n",
       "      <th>Angles</th>\n",
       "      <th>Cycles</th>\n",
       "      <th>Head On</th>\n",
       "      <th>Left Turn</th>\n",
       "      <th>NA</th>\n",
       "      <th>Other</th>\n",
       "      <th>Parked Car</th>\n",
       "      <th>Pedestrian</th>\n",
       "      <th>Rear Ended</th>\n",
       "      <th>Right Turn</th>\n",
       "      <th>Sideswipe</th>\n",
       "    </tr>\n",
       "    <tr>\n",
       "      <th>SEVERITYCODE</th>\n",
       "      <th></th>\n",
       "      <th></th>\n",
       "      <th></th>\n",
       "      <th></th>\n",
       "      <th></th>\n",
       "      <th></th>\n",
       "      <th></th>\n",
       "      <th></th>\n",
       "      <th></th>\n",
       "      <th></th>\n",
       "      <th></th>\n",
       "    </tr>\n",
       "  </thead>\n",
       "  <tbody>\n",
       "    <tr>\n",
       "      <th>1</th>\n",
       "      <td>21050</td>\n",
       "      <td>671</td>\n",
       "      <td>1152</td>\n",
       "      <td>8292</td>\n",
       "      <td>3863</td>\n",
       "      <td>17591</td>\n",
       "      <td>45325</td>\n",
       "      <td>672</td>\n",
       "      <td>19419</td>\n",
       "      <td>2347</td>\n",
       "      <td>16103</td>\n",
       "    </tr>\n",
       "    <tr>\n",
       "      <th>2</th>\n",
       "      <td>13624</td>\n",
       "      <td>4744</td>\n",
       "      <td>872</td>\n",
       "      <td>5411</td>\n",
       "      <td>1041</td>\n",
       "      <td>6112</td>\n",
       "      <td>2662</td>\n",
       "      <td>5936</td>\n",
       "      <td>14671</td>\n",
       "      <td>609</td>\n",
       "      <td>2506</td>\n",
       "    </tr>\n",
       "  </tbody>\n",
       "</table>\n",
       "</div>"
      ],
      "text/plain": [
       "               count                                                   \\\n",
       "COLLISIONTYPE Angles Cycles Head On Left Turn    NA  Other Parked Car   \n",
       "SEVERITYCODE                                                            \n",
       "1              21050    671    1152      8292  3863  17591      45325   \n",
       "2              13624   4744     872      5411  1041   6112       2662   \n",
       "\n",
       "                                                          \n",
       "COLLISIONTYPE Pedestrian Rear Ended Right Turn Sideswipe  \n",
       "SEVERITYCODE                                              \n",
       "1                    672      19419       2347     16103  \n",
       "2                   5936      14671        609      2506  "
      ]
     },
     "execution_count": 29,
     "metadata": {},
     "output_type": "execute_result"
    },
    {
     "data": {
      "image/png": "[encoded data removed]",
      "text/plain": [
       "<Figure size 432x288 with 1 Axes>"
      ]
     },
     "metadata": {
      "needs_background": "light"
     },
     "output_type": "display_data"
    }
   ],
   "source": [
    "get_summary(df_clean, 'COLLISIONTYPE')"
   ]
  },
  {
   "cell_type": "markdown",
   "metadata": {
    "ExecuteTime": {
     "end_time": "2020-10-29T23:50:54.611869Z",
     "start_time": "2020-10-29T23:50:54.592892Z"
    }
   },
   "source": [
    "* It is possible to replace the missing values with the most frequent value, __Parked Car__ since they have similar class distributions.\n",
    "* It is also possible to combine __Right Turn__ with __Sideswipe__ and __Head On__ with __Left Turn__ because of the similar structure of class distributions.\n",
    "* We will also combine __Cycles__ with __Pedestrian__."
   ]
  },
  {
   "cell_type": "code",
   "execution_count": 30,
   "metadata": {
    "ExecuteTime": {
     "end_time": "2020-11-01T18:58:59.831339Z",
     "start_time": "2020-11-01T18:58:59.746702Z"
    }
   },
   "outputs": [],
   "source": [
    "df_clean.COLLISIONTYPE.replace(to_replace=['NA', 'Right Turn', 'Head On', \n",
    "                                           'Cycles', 'Pedestrian'],\n",
    "                               value=['Parked Car', 'Sideswipe', 'Left Turn', \n",
    "                                      'Injury Prone', 'Injury Prone'],\n",
    "                               inplace=True)"
   ]
  },
  {
   "cell_type": "markdown",
   "metadata": {},
   "source": [
    "##junctiontype"
   ]
  },
  {
   "cell_type": "code",
   "execution_count": 31,
   "metadata": {
    "ExecuteTime": {
     "end_time": "2020-11-01T18:59:00.194643Z",
     "start_time": "2020-11-01T18:58:59.831339Z"
    }
   },
   "outputs": [
    {
     "data": {
      "text/html": [
       "<div>\n",
       "<style scoped>\n",
       "    .dataframe tbody tr th:only-of-type {\n",
       "        vertical-align: middle;\n",
       "    }\n",
       "\n",
       "    .dataframe tbody tr th {\n",
       "        vertical-align: top;\n",
       "    }\n",
       "\n",
       "    .dataframe thead th {\n",
       "        text-align: right;\n",
       "    }\n",
       "</style>\n",
       "<table border=\"1\" class=\"dataframe\">\n",
       "  <thead>\n",
       "    <tr style=\"text-align: right;\">\n",
       "      <th></th>\n",
       "      <th>freq</th>\n",
       "    </tr>\n",
       "  </thead>\n",
       "  <tbody>\n",
       "    <tr>\n",
       "      <th>At Intersection (intersection related)</th>\n",
       "      <td>32.264</td>\n",
       "    </tr>\n",
       "    <tr>\n",
       "      <th>Mid-Block (not related to intersection)</th>\n",
       "      <td>46.129</td>\n",
       "    </tr>\n",
       "    <tr>\n",
       "      <th>Driveway Junction</th>\n",
       "      <td>5.481</td>\n",
       "    </tr>\n",
       "    <tr>\n",
       "      <th>Mid-Block (but intersection related)</th>\n",
       "      <td>11.707</td>\n",
       "    </tr>\n",
       "    <tr>\n",
       "      <th>At Intersection (but not related to intersection)</th>\n",
       "      <td>1.078</td>\n",
       "    </tr>\n",
       "    <tr>\n",
       "      <th>NA</th>\n",
       "      <td>3.251</td>\n",
       "    </tr>\n",
       "    <tr>\n",
       "      <th>Unknown</th>\n",
       "      <td>0.005</td>\n",
       "    </tr>\n",
       "    <tr>\n",
       "      <th>Ramp Junction</th>\n",
       "      <td>0.085</td>\n",
       "    </tr>\n",
       "  </tbody>\n",
       "</table>\n",
       "</div>"
      ],
      "text/plain": [
       "                                                     freq\n",
       "At Intersection (intersection related)             32.264\n",
       "Mid-Block (not related to intersection)            46.129\n",
       "Driveway Junction                                   5.481\n",
       "Mid-Block (but intersection related)               11.707\n",
       "At Intersection (but not related to intersection)   1.078\n",
       "NA                                                  3.251\n",
       "Unknown                                             0.005\n",
       "Ramp Junction                                       0.085"
      ]
     },
     "execution_count": 31,
     "metadata": {},
     "output_type": "execute_result"
    }
   ],
   "source": [
    "get_frequency(df_clean, 'JUNCTIONTYPE')"
   ]
  },
  {
   "cell_type": "code",
   "execution_count": 32,
   "metadata": {
    "ExecuteTime": {
     "end_time": "2020-11-01T18:59:00.995602Z",
     "start_time": "2020-11-01T18:59:00.194643Z"
    },
    "scrolled": false
   },
   "outputs": [
    {
     "data": {
      "text/html": [
       "<div>\n",
       "<style scoped>\n",
       "    .dataframe tbody tr th:only-of-type {\n",
       "        vertical-align: middle;\n",
       "    }\n",
       "\n",
       "    .dataframe tbody tr th {\n",
       "        vertical-align: top;\n",
       "    }\n",
       "\n",
       "    .dataframe thead tr th {\n",
       "        text-align: left;\n",
       "    }\n",
       "\n",
       "    .dataframe thead tr:last-of-type th {\n",
       "        text-align: right;\n",
       "    }\n",
       "</style>\n",
       "<table border=\"1\" class=\"dataframe\">\n",
       "  <thead>\n",
       "    <tr>\n",
       "      <th></th>\n",
       "      <th colspan=\"8\" halign=\"left\">count</th>\n",
       "    </tr>\n",
       "    <tr>\n",
       "      <th>JUNCTIONTYPE</th>\n",
       "      <th>At Intersection (but not related to intersection)</th>\n",
       "      <th>At Intersection (intersection related)</th>\n",
       "      <th>Driveway Junction</th>\n",
       "      <th>Mid-Block (but intersection related)</th>\n",
       "      <th>Mid-Block (not related to intersection)</th>\n",
       "      <th>NA</th>\n",
       "      <th>Ramp Junction</th>\n",
       "      <th>Unknown</th>\n",
       "    </tr>\n",
       "    <tr>\n",
       "      <th>SEVERITYCODE</th>\n",
       "      <th></th>\n",
       "      <th></th>\n",
       "      <th></th>\n",
       "      <th></th>\n",
       "      <th></th>\n",
       "      <th></th>\n",
       "      <th></th>\n",
       "      <th></th>\n",
       "    </tr>\n",
       "  </thead>\n",
       "  <tbody>\n",
       "    <tr>\n",
       "      <th>1</th>\n",
       "      <td>1475</td>\n",
       "      <td>35636</td>\n",
       "      <td>7437</td>\n",
       "      <td>15493</td>\n",
       "      <td>70396</td>\n",
       "      <td>5929</td>\n",
       "      <td>112</td>\n",
       "      <td>7</td>\n",
       "    </tr>\n",
       "    <tr>\n",
       "      <th>2</th>\n",
       "      <td>623</td>\n",
       "      <td>27174</td>\n",
       "      <td>3234</td>\n",
       "      <td>7297</td>\n",
       "      <td>19404</td>\n",
       "      <td>400</td>\n",
       "      <td>54</td>\n",
       "      <td>2</td>\n",
       "    </tr>\n",
       "  </tbody>\n",
       "</table>\n",
       "</div>"
      ],
      "text/plain": [
       "                                                         count  \\\n",
       "JUNCTIONTYPE At Intersection (but not related to intersection)   \n",
       "SEVERITYCODE                                                     \n",
       "1                                                         1475   \n",
       "2                                                          623   \n",
       "\n",
       "                                                                       \\\n",
       "JUNCTIONTYPE At Intersection (intersection related) Driveway Junction   \n",
       "SEVERITYCODE                                                            \n",
       "1                                             35636              7437   \n",
       "2                                             27174              3234   \n",
       "\n",
       "                                                   \\\n",
       "JUNCTIONTYPE Mid-Block (but intersection related)   \n",
       "SEVERITYCODE                                        \n",
       "1                                           15493   \n",
       "2                                            7297   \n",
       "\n",
       "                                                                          \\\n",
       "JUNCTIONTYPE Mid-Block (not related to intersection)    NA Ramp Junction   \n",
       "SEVERITYCODE                                                               \n",
       "1                                              70396  5929           112   \n",
       "2                                              19404   400            54   \n",
       "\n",
       "                      \n",
       "JUNCTIONTYPE Unknown  \n",
       "SEVERITYCODE          \n",
       "1                  7  \n",
       "2                  2  "
      ]
     },
     "execution_count": 32,
     "metadata": {},
     "output_type": "execute_result"
    },
    {
     "data": {
      "image/png": "[encoded data removed]",
      "text/plain": [
       "<Figure size 432x288 with 1 Axes>"
      ]
     },
     "metadata": {
      "needs_background": "light"
     },
     "output_type": "display_data"
    }
   ],
   "source": [
    "get_summary(df_clean, 'JUNCTIONTYPE')"
   ]
  },
  {
   "cell_type": "markdown",
   "metadata": {},
   "source": [
    "* The missing values can be replaced with the mode.\n",
    "* The rare classes can be combined into __Driveway Junction__ since they have similar class distributions."
   ]
  },
  {
   "cell_type": "code",
   "execution_count": 33,
   "metadata": {
    "ExecuteTime": {
     "end_time": "2020-11-01T18:59:01.052389Z",
     "start_time": "2020-11-01T18:59:00.995602Z"
    }
   },
   "outputs": [],
   "source": [
    "df_clean.JUNCTIONTYPE.replace(to_replace=['At Intersection (but not related to intersection)',\n",
    "                                          'NA', 'Unknown', 'Ramp Junction'],\n",
    "                              value=['Driveway Junction', \n",
    "                                     'Mid-Block (not related to intersection)',\n",
    "                                     'Driveway Junction',\n",
    "                                     'Driveway Junction'],\n",
    "                              inplace=True)"
   ]
  },
  {
   "cell_type": "markdown",
   "metadata": {},
   "source": [
    "##weather"
   ]
  },
  {
   "cell_type": "code",
   "execution_count": 34,
   "metadata": {
    "ExecuteTime": {
     "end_time": "2020-11-01T18:59:01.358696Z",
     "start_time": "2020-11-01T18:59:01.052389Z"
    }
   },
   "outputs": [
    {
     "data": {
      "text/html": [
       "<div>\n",
       "<style scoped>\n",
       "    .dataframe tbody tr th:only-of-type {\n",
       "        vertical-align: middle;\n",
       "    }\n",
       "\n",
       "    .dataframe tbody tr th {\n",
       "        vertical-align: top;\n",
       "    }\n",
       "\n",
       "    .dataframe thead th {\n",
       "        text-align: right;\n",
       "    }\n",
       "</style>\n",
       "<table border=\"1\" class=\"dataframe\">\n",
       "  <thead>\n",
       "    <tr style=\"text-align: right;\">\n",
       "      <th></th>\n",
       "      <th>freq</th>\n",
       "    </tr>\n",
       "  </thead>\n",
       "  <tbody>\n",
       "    <tr>\n",
       "      <th>Overcast</th>\n",
       "      <td>14.236</td>\n",
       "    </tr>\n",
       "    <tr>\n",
       "      <th>Raining</th>\n",
       "      <td>17.026</td>\n",
       "    </tr>\n",
       "    <tr>\n",
       "      <th>Clear</th>\n",
       "      <td>57.088</td>\n",
       "    </tr>\n",
       "    <tr>\n",
       "      <th>NA</th>\n",
       "      <td>2.610</td>\n",
       "    </tr>\n",
       "    <tr>\n",
       "      <th>Unknown</th>\n",
       "      <td>7.752</td>\n",
       "    </tr>\n",
       "    <tr>\n",
       "      <th>Other</th>\n",
       "      <td>0.427</td>\n",
       "    </tr>\n",
       "    <tr>\n",
       "      <th>Snowing</th>\n",
       "      <td>0.466</td>\n",
       "    </tr>\n",
       "    <tr>\n",
       "      <th>Fog/Smog/Smoke</th>\n",
       "      <td>0.292</td>\n",
       "    </tr>\n",
       "    <tr>\n",
       "      <th>Sleet/Hail/Freezing Rain</th>\n",
       "      <td>0.058</td>\n",
       "    </tr>\n",
       "    <tr>\n",
       "      <th>Blowing Sand/Dirt</th>\n",
       "      <td>0.029</td>\n",
       "    </tr>\n",
       "    <tr>\n",
       "      <th>Severe Crosswind</th>\n",
       "      <td>0.013</td>\n",
       "    </tr>\n",
       "    <tr>\n",
       "      <th>Partly Cloudy</th>\n",
       "      <td>0.003</td>\n",
       "    </tr>\n",
       "  </tbody>\n",
       "</table>\n",
       "</div>"
      ],
      "text/plain": [
       "                            freq\n",
       "Overcast                  14.236\n",
       "Raining                   17.026\n",
       "Clear                     57.088\n",
       "NA                         2.610\n",
       "Unknown                    7.752\n",
       "Other                      0.427\n",
       "Snowing                    0.466\n",
       "Fog/Smog/Smoke             0.292\n",
       "Sleet/Hail/Freezing Rain   0.058\n",
       "Blowing Sand/Dirt          0.029\n",
       "Severe Crosswind           0.013\n",
       "Partly Cloudy              0.003"
      ]
     },
     "execution_count": 34,
     "metadata": {},
     "output_type": "execute_result"
    }
   ],
   "source": [
    "get_frequency(df_clean, 'WEATHER')"
   ]
  },
  {
   "cell_type": "code",
   "execution_count": 35,
   "metadata": {
    "ExecuteTime": {
     "end_time": "2020-11-01T18:59:01.775438Z",
     "start_time": "2020-11-01T18:59:01.358696Z"
    }
   },
   "outputs": [
    {
     "data": {
      "text/html": [
       "<div>\n",
       "<style scoped>\n",
       "    .dataframe tbody tr th:only-of-type {\n",
       "        vertical-align: middle;\n",
       "    }\n",
       "\n",
       "    .dataframe tbody tr th {\n",
       "        vertical-align: top;\n",
       "    }\n",
       "\n",
       "    .dataframe thead tr th {\n",
       "        text-align: left;\n",
       "    }\n",
       "\n",
       "    .dataframe thead tr:last-of-type th {\n",
       "        text-align: right;\n",
       "    }\n",
       "</style>\n",
       "<table border=\"1\" class=\"dataframe\">\n",
       "  <thead>\n",
       "    <tr>\n",
       "      <th></th>\n",
       "      <th colspan=\"12\" halign=\"left\">count</th>\n",
       "    </tr>\n",
       "    <tr>\n",
       "      <th>WEATHER</th>\n",
       "      <th>Blowing Sand/Dirt</th>\n",
       "      <th>Clear</th>\n",
       "      <th>Fog/Smog/Smoke</th>\n",
       "      <th>NA</th>\n",
       "      <th>Other</th>\n",
       "      <th>Overcast</th>\n",
       "      <th>Partly Cloudy</th>\n",
       "      <th>Raining</th>\n",
       "      <th>Severe Crosswind</th>\n",
       "      <th>Sleet/Hail/Freezing Rain</th>\n",
       "      <th>Snowing</th>\n",
       "      <th>Unknown</th>\n",
       "    </tr>\n",
       "    <tr>\n",
       "      <th>SEVERITYCODE</th>\n",
       "      <th></th>\n",
       "      <th></th>\n",
       "      <th></th>\n",
       "      <th></th>\n",
       "      <th></th>\n",
       "      <th></th>\n",
       "      <th></th>\n",
       "      <th></th>\n",
       "      <th></th>\n",
       "      <th></th>\n",
       "      <th></th>\n",
       "      <th></th>\n",
       "    </tr>\n",
       "  </thead>\n",
       "  <tbody>\n",
       "    <tr>\n",
       "      <th>1</th>\n",
       "      <td>41</td>\n",
       "      <td>75295</td>\n",
       "      <td>382</td>\n",
       "      <td>3997</td>\n",
       "      <td>716</td>\n",
       "      <td>18969</td>\n",
       "      <td>2</td>\n",
       "      <td>21969</td>\n",
       "      <td>18</td>\n",
       "      <td>85</td>\n",
       "      <td>736</td>\n",
       "      <td>14275</td>\n",
       "    </tr>\n",
       "    <tr>\n",
       "      <th>2</th>\n",
       "      <td>15</td>\n",
       "      <td>35840</td>\n",
       "      <td>187</td>\n",
       "      <td>1084</td>\n",
       "      <td>116</td>\n",
       "      <td>8745</td>\n",
       "      <td>3</td>\n",
       "      <td>11176</td>\n",
       "      <td>7</td>\n",
       "      <td>28</td>\n",
       "      <td>171</td>\n",
       "      <td>816</td>\n",
       "    </tr>\n",
       "  </tbody>\n",
       "</table>\n",
       "</div>"
      ],
      "text/plain": [
       "                         count                                             \\\n",
       "WEATHER      Blowing Sand/Dirt  Clear Fog/Smog/Smoke    NA Other Overcast   \n",
       "SEVERITYCODE                                                                \n",
       "1                           41  75295            382  3997   716    18969   \n",
       "2                           15  35840            187  1084   116     8745   \n",
       "\n",
       "                                                                              \\\n",
       "WEATHER      Partly Cloudy Raining Severe Crosswind Sleet/Hail/Freezing Rain   \n",
       "SEVERITYCODE                                                                   \n",
       "1                        2   21969               18                       85   \n",
       "2                        3   11176                7                       28   \n",
       "\n",
       "                              \n",
       "WEATHER      Snowing Unknown  \n",
       "SEVERITYCODE                  \n",
       "1                736   14275  \n",
       "2                171     816  "
      ]
     },
     "execution_count": 35,
     "metadata": {},
     "output_type": "execute_result"
    },
    {
     "data": {
      "image/png": "[encoded data removed]",
      "text/plain": [
       "<Figure size 432x288 with 1 Axes>"
      ]
     },
     "metadata": {
      "needs_background": "light"
     },
     "output_type": "display_data"
    }
   ],
   "source": [
    "get_summary(df_clean, 'WEATHER')"
   ]
  },
  {
   "cell_type": "markdown",
   "metadata": {},
   "source": [
    "* There are lots of rare levels, they share common ground with rain so that we will combine them into __Raining__.\n",
    "* Combine missing values with __Unknown__ and check how many percent of the data is missing."
   ]
  },
  {
   "cell_type": "code",
   "execution_count": 36,
   "metadata": {
    "ExecuteTime": {
     "end_time": "2020-11-01T18:59:01.860097Z",
     "start_time": "2020-11-01T18:59:01.775438Z"
    }
   },
   "outputs": [],
   "source": [
    "df_clean.WEATHER.replace(to_replace=['NA'],\n",
    "                         value=['Unknown'],\n",
    "                         inplace=True)\n",
    "df_clean.WEATHER.replace(to_replace=['Snowing', 'Other', 'Fog/Smog/Smoke',\n",
    "                                     'Sleet/Hail/Freezing Rain', 'Blowing Sand/Dirt',\n",
    "                                     'Severe Crosswind', 'Partly Cloudy'],\n",
    "                         value=['Raining'] * 7,\n",
    "                         inplace=True)"
   ]
  },
  {
   "cell_type": "markdown",
   "metadata": {},
   "source": [
    "* Missing values are about 10% of the data. We can combine them with __Clear__ since it is the dominant level."
   ]
  },
  {
   "cell_type": "code",
   "execution_count": 37,
   "metadata": {
    "ExecuteTime": {
     "end_time": "2020-11-01T18:59:01.891294Z",
     "start_time": "2020-11-01T18:59:01.860097Z"
    }
   },
   "outputs": [],
   "source": [
    "df_clean.WEATHER.replace(to_replace=['Unknown'],\n",
    "                         value=['Clear'],\n",
    "                         inplace=True)"
   ]
  },
  {
   "cell_type": "markdown",
   "metadata": {},
   "source": [
    "##roadcond"
   ]
  },
  {
   "cell_type": "code",
   "execution_count": 38,
   "metadata": {
    "ExecuteTime": {
     "end_time": "2020-11-01T18:59:02.213979Z",
     "start_time": "2020-11-01T18:59:01.891294Z"
    },
    "scrolled": false
   },
   "outputs": [
    {
     "data": {
      "text/html": [
       "<div>\n",
       "<style scoped>\n",
       "    .dataframe tbody tr th:only-of-type {\n",
       "        vertical-align: middle;\n",
       "    }\n",
       "\n",
       "    .dataframe tbody tr th {\n",
       "        vertical-align: top;\n",
       "    }\n",
       "\n",
       "    .dataframe thead th {\n",
       "        text-align: right;\n",
       "    }\n",
       "</style>\n",
       "<table border=\"1\" class=\"dataframe\">\n",
       "  <thead>\n",
       "    <tr style=\"text-align: right;\">\n",
       "      <th></th>\n",
       "      <th>freq</th>\n",
       "    </tr>\n",
       "  </thead>\n",
       "  <tbody>\n",
       "    <tr>\n",
       "      <th>Wet</th>\n",
       "      <td>24.387</td>\n",
       "    </tr>\n",
       "    <tr>\n",
       "      <th>Dry</th>\n",
       "      <td>63.959</td>\n",
       "    </tr>\n",
       "    <tr>\n",
       "      <th>NA</th>\n",
       "      <td>2.575</td>\n",
       "    </tr>\n",
       "    <tr>\n",
       "      <th>Unknown</th>\n",
       "      <td>7.745</td>\n",
       "    </tr>\n",
       "    <tr>\n",
       "      <th>Snow/Slush</th>\n",
       "      <td>0.516</td>\n",
       "    </tr>\n",
       "    <tr>\n",
       "      <th>Ice</th>\n",
       "      <td>0.621</td>\n",
       "    </tr>\n",
       "    <tr>\n",
       "      <th>Other</th>\n",
       "      <td>0.068</td>\n",
       "    </tr>\n",
       "    <tr>\n",
       "      <th>Sand/Mud/Dirt</th>\n",
       "      <td>0.039</td>\n",
       "    </tr>\n",
       "    <tr>\n",
       "      <th>Standing Water</th>\n",
       "      <td>0.059</td>\n",
       "    </tr>\n",
       "    <tr>\n",
       "      <th>Oil</th>\n",
       "      <td>0.033</td>\n",
       "    </tr>\n",
       "  </tbody>\n",
       "</table>\n",
       "</div>"
      ],
      "text/plain": [
       "                  freq\n",
       "Wet             24.387\n",
       "Dry             63.959\n",
       "NA               2.575\n",
       "Unknown          7.745\n",
       "Snow/Slush       0.516\n",
       "Ice              0.621\n",
       "Other            0.068\n",
       "Sand/Mud/Dirt    0.039\n",
       "Standing Water   0.059\n",
       "Oil              0.033"
      ]
     },
     "execution_count": 38,
     "metadata": {},
     "output_type": "execute_result"
    }
   ],
   "source": [
    "get_frequency(df_clean, 'ROADCOND')"
   ]
  },
  {
   "cell_type": "code",
   "execution_count": 39,
   "metadata": {
    "ExecuteTime": {
     "end_time": "2020-11-01T18:59:02.615038Z",
     "start_time": "2020-11-01T18:59:02.213979Z"
    },
    "scrolled": false
   },
   "outputs": [
    {
     "data": {
      "text/html": [
       "<div>\n",
       "<style scoped>\n",
       "    .dataframe tbody tr th:only-of-type {\n",
       "        vertical-align: middle;\n",
       "    }\n",
       "\n",
       "    .dataframe tbody tr th {\n",
       "        vertical-align: top;\n",
       "    }\n",
       "\n",
       "    .dataframe thead tr th {\n",
       "        text-align: left;\n",
       "    }\n",
       "\n",
       "    .dataframe thead tr:last-of-type th {\n",
       "        text-align: right;\n",
       "    }\n",
       "</style>\n",
       "<table border=\"1\" class=\"dataframe\">\n",
       "  <thead>\n",
       "    <tr>\n",
       "      <th></th>\n",
       "      <th colspan=\"10\" halign=\"left\">count</th>\n",
       "    </tr>\n",
       "    <tr>\n",
       "      <th>ROADCOND</th>\n",
       "      <th>Dry</th>\n",
       "      <th>Ice</th>\n",
       "      <th>NA</th>\n",
       "      <th>Oil</th>\n",
       "      <th>Other</th>\n",
       "      <th>Sand/Mud/Dirt</th>\n",
       "      <th>Snow/Slush</th>\n",
       "      <th>Standing Water</th>\n",
       "      <th>Unknown</th>\n",
       "      <th>Wet</th>\n",
       "    </tr>\n",
       "    <tr>\n",
       "      <th>SEVERITYCODE</th>\n",
       "      <th></th>\n",
       "      <th></th>\n",
       "      <th></th>\n",
       "      <th></th>\n",
       "      <th></th>\n",
       "      <th></th>\n",
       "      <th></th>\n",
       "      <th></th>\n",
       "      <th></th>\n",
       "      <th></th>\n",
       "    </tr>\n",
       "  </thead>\n",
       "  <tbody>\n",
       "    <tr>\n",
       "      <th>1</th>\n",
       "      <td>84446</td>\n",
       "      <td>936</td>\n",
       "      <td>3952</td>\n",
       "      <td>40</td>\n",
       "      <td>89</td>\n",
       "      <td>52</td>\n",
       "      <td>837</td>\n",
       "      <td>85</td>\n",
       "      <td>14329</td>\n",
       "      <td>31719</td>\n",
       "    </tr>\n",
       "    <tr>\n",
       "      <th>2</th>\n",
       "      <td>40064</td>\n",
       "      <td>273</td>\n",
       "      <td>1060</td>\n",
       "      <td>24</td>\n",
       "      <td>43</td>\n",
       "      <td>23</td>\n",
       "      <td>167</td>\n",
       "      <td>30</td>\n",
       "      <td>749</td>\n",
       "      <td>15755</td>\n",
       "    </tr>\n",
       "  </tbody>\n",
       "</table>\n",
       "</div>"
      ],
      "text/plain": [
       "              count                                                \\\n",
       "ROADCOND        Dry  Ice    NA Oil Other Sand/Mud/Dirt Snow/Slush   \n",
       "SEVERITYCODE                                                        \n",
       "1             84446  936  3952  40    89            52        837   \n",
       "2             40064  273  1060  24    43            23        167   \n",
       "\n",
       "                                            \n",
       "ROADCOND     Standing Water Unknown    Wet  \n",
       "SEVERITYCODE                                \n",
       "1                        85   14329  31719  \n",
       "2                        30     749  15755  "
      ]
     },
     "execution_count": 39,
     "metadata": {},
     "output_type": "execute_result"
    },
    {
     "data": {
      "image/png": "[encoded data removed]",
      "text/plain": [
       "<Figure size 432x288 with 1 Axes>"
      ]
     },
     "metadata": {
      "needs_background": "light"
     },
     "output_type": "display_data"
    }
   ],
   "source": [
    "get_summary(df_clean, 'ROADCOND')"
   ]
  },
  {
   "cell_type": "markdown",
   "metadata": {
    "ExecuteTime": {
     "end_time": "2020-10-30T01:04:14.254734Z",
     "start_time": "2020-10-30T01:04:14.234741Z"
    }
   },
   "source": [
    "* We basically followed what we did to `weather` feature."
   ]
  },
  {
   "cell_type": "code",
   "execution_count": 40,
   "metadata": {
    "ExecuteTime": {
     "end_time": "2020-11-01T18:59:02.661914Z",
     "start_time": "2020-11-01T18:59:02.615038Z"
    }
   },
   "outputs": [],
   "source": [
    "df_clean.ROADCOND.replace(to_replace=['NA', 'Unknown'],\n",
    "                          value=['Dry']*2,\n",
    "                          inplace=True)"
   ]
  },
  {
   "cell_type": "code",
   "execution_count": 41,
   "metadata": {
    "ExecuteTime": {
     "end_time": "2020-11-01T18:59:02.730932Z",
     "start_time": "2020-11-01T18:59:02.661914Z"
    }
   },
   "outputs": [],
   "source": [
    "df_clean.ROADCOND.replace(to_replace=['Snow/Slush', 'Ice', 'Other', 'Sand/Mud/Dirt',\n",
    "                                      'Standing Water', 'Oil'],\n",
    "                          value=['Wet'] * 6,\n",
    "                          inplace=True)"
   ]
  },
  {
   "cell_type": "markdown",
   "metadata": {},
   "source": [
    "##lightcond"
   ]
  },
  {
   "cell_type": "code",
   "execution_count": 42,
   "metadata": {
    "ExecuteTime": {
     "end_time": "2020-11-01T18:59:03.062965Z",
     "start_time": "2020-11-01T18:59:02.730932Z"
    },
    "scrolled": true
   },
   "outputs": [
    {
     "data": {
      "text/html": [
       "<div>\n",
       "<style scoped>\n",
       "    .dataframe tbody tr th:only-of-type {\n",
       "        vertical-align: middle;\n",
       "    }\n",
       "\n",
       "    .dataframe tbody tr th {\n",
       "        vertical-align: top;\n",
       "    }\n",
       "\n",
       "    .dataframe thead th {\n",
       "        text-align: right;\n",
       "    }\n",
       "</style>\n",
       "<table border=\"1\" class=\"dataframe\">\n",
       "  <thead>\n",
       "    <tr style=\"text-align: right;\">\n",
       "      <th></th>\n",
       "      <th>freq</th>\n",
       "    </tr>\n",
       "  </thead>\n",
       "  <tbody>\n",
       "    <tr>\n",
       "      <th>Daylight</th>\n",
       "      <td>59.657</td>\n",
       "    </tr>\n",
       "    <tr>\n",
       "      <th>Dark - Street Lights On</th>\n",
       "      <td>24.917</td>\n",
       "    </tr>\n",
       "    <tr>\n",
       "      <th>Dark - No Street Lights</th>\n",
       "      <td>0.790</td>\n",
       "    </tr>\n",
       "    <tr>\n",
       "      <th>NA</th>\n",
       "      <td>2.656</td>\n",
       "    </tr>\n",
       "    <tr>\n",
       "      <th>Unknown</th>\n",
       "      <td>6.921</td>\n",
       "    </tr>\n",
       "    <tr>\n",
       "      <th>Dusk</th>\n",
       "      <td>3.032</td>\n",
       "    </tr>\n",
       "    <tr>\n",
       "      <th>Dawn</th>\n",
       "      <td>1.285</td>\n",
       "    </tr>\n",
       "    <tr>\n",
       "      <th>Dark - Street Lights Off</th>\n",
       "      <td>0.616</td>\n",
       "    </tr>\n",
       "    <tr>\n",
       "      <th>Other</th>\n",
       "      <td>0.121</td>\n",
       "    </tr>\n",
       "    <tr>\n",
       "      <th>Dark - Unknown Lighting</th>\n",
       "      <td>0.006</td>\n",
       "    </tr>\n",
       "  </tbody>\n",
       "</table>\n",
       "</div>"
      ],
      "text/plain": [
       "                            freq\n",
       "Daylight                  59.657\n",
       "Dark - Street Lights On   24.917\n",
       "Dark - No Street Lights    0.790\n",
       "NA                         2.656\n",
       "Unknown                    6.921\n",
       "Dusk                       3.032\n",
       "Dawn                       1.285\n",
       "Dark - Street Lights Off   0.616\n",
       "Other                      0.121\n",
       "Dark - Unknown Lighting    0.006"
      ]
     },
     "execution_count": 42,
     "metadata": {},
     "output_type": "execute_result"
    }
   ],
   "source": [
    "get_frequency(df_clean, 'LIGHTCOND')"
   ]
  },
  {
   "cell_type": "code",
   "execution_count": 43,
   "metadata": {
    "ExecuteTime": {
     "end_time": "2020-11-01T18:59:03.448028Z",
     "start_time": "2020-11-01T18:59:03.062965Z"
    },
    "scrolled": false
   },
   "outputs": [
    {
     "data": {
      "text/html": [
       "<div>\n",
       "<style scoped>\n",
       "    .dataframe tbody tr th:only-of-type {\n",
       "        vertical-align: middle;\n",
       "    }\n",
       "\n",
       "    .dataframe tbody tr th {\n",
       "        vertical-align: top;\n",
       "    }\n",
       "\n",
       "    .dataframe thead tr th {\n",
       "        text-align: left;\n",
       "    }\n",
       "\n",
       "    .dataframe thead tr:last-of-type th {\n",
       "        text-align: right;\n",
       "    }\n",
       "</style>\n",
       "<table border=\"1\" class=\"dataframe\">\n",
       "  <thead>\n",
       "    <tr>\n",
       "      <th></th>\n",
       "      <th colspan=\"10\" halign=\"left\">count</th>\n",
       "    </tr>\n",
       "    <tr>\n",
       "      <th>LIGHTCOND</th>\n",
       "      <th>Dark - No Street Lights</th>\n",
       "      <th>Dark - Street Lights Off</th>\n",
       "      <th>Dark - Street Lights On</th>\n",
       "      <th>Dark - Unknown Lighting</th>\n",
       "      <th>Dawn</th>\n",
       "      <th>Daylight</th>\n",
       "      <th>Dusk</th>\n",
       "      <th>NA</th>\n",
       "      <th>Other</th>\n",
       "      <th>Unknown</th>\n",
       "    </tr>\n",
       "    <tr>\n",
       "      <th>SEVERITYCODE</th>\n",
       "      <th></th>\n",
       "      <th></th>\n",
       "      <th></th>\n",
       "      <th></th>\n",
       "      <th></th>\n",
       "      <th></th>\n",
       "      <th></th>\n",
       "      <th></th>\n",
       "      <th></th>\n",
       "      <th></th>\n",
       "    </tr>\n",
       "  </thead>\n",
       "  <tbody>\n",
       "    <tr>\n",
       "      <th>1</th>\n",
       "      <td>1203</td>\n",
       "      <td>883</td>\n",
       "      <td>34032</td>\n",
       "      <td>7</td>\n",
       "      <td>1678</td>\n",
       "      <td>77593</td>\n",
       "      <td>3958</td>\n",
       "      <td>4080</td>\n",
       "      <td>183</td>\n",
       "      <td>12868</td>\n",
       "    </tr>\n",
       "    <tr>\n",
       "      <th>2</th>\n",
       "      <td>334</td>\n",
       "      <td>316</td>\n",
       "      <td>14475</td>\n",
       "      <td>4</td>\n",
       "      <td>824</td>\n",
       "      <td>38544</td>\n",
       "      <td>1944</td>\n",
       "      <td>1090</td>\n",
       "      <td>52</td>\n",
       "      <td>605</td>\n",
       "    </tr>\n",
       "  </tbody>\n",
       "</table>\n",
       "</div>"
      ],
      "text/plain": [
       "                               count                           \\\n",
       "LIGHTCOND    Dark - No Street Lights Dark - Street Lights Off   \n",
       "SEVERITYCODE                                                    \n",
       "1                               1203                      883   \n",
       "2                                334                      316   \n",
       "\n",
       "                                                                             \\\n",
       "LIGHTCOND    Dark - Street Lights On Dark - Unknown Lighting  Dawn Daylight   \n",
       "SEVERITYCODE                                                                  \n",
       "1                              34032                       7  1678    77593   \n",
       "2                              14475                       4   824    38544   \n",
       "\n",
       "                                        \n",
       "LIGHTCOND     Dusk    NA Other Unknown  \n",
       "SEVERITYCODE                            \n",
       "1             3958  4080   183   12868  \n",
       "2             1944  1090    52     605  "
      ]
     },
     "execution_count": 43,
     "metadata": {},
     "output_type": "execute_result"
    },
    {
     "data": {
      "image/png": "[encoded data removed]",
      "text/plain": [
       "<Figure size 432x288 with 1 Axes>"
      ]
     },
     "metadata": {
      "needs_background": "light"
     },
     "output_type": "display_data"
    }
   ],
   "source": [
    "get_summary(df_clean, 'LIGHTCOND')"
   ]
  },
  {
   "cell_type": "markdown",
   "metadata": {},
   "source": [
    "* The same applies to `lightcond` feature.\n",
    "* There is a common ground between `weather`, `roadcond` and `lightcond` which is the structure of the missing values. All features have approximately same number of missing values and `unknown` feature. I believe that there are high correlation between those three features which can be further investigated with _contingency tables_."
   ]
  },
  {
   "cell_type": "code",
   "execution_count": 44,
   "metadata": {
    "ExecuteTime": {
     "end_time": "2020-11-01T18:59:03.517043Z",
     "start_time": "2020-11-01T18:59:03.448028Z"
    }
   },
   "outputs": [],
   "source": [
    "df_clean.LIGHTCOND.replace(to_replace=['Dark - Street Lights On', 'Dusk', 'Dawn',\n",
    "                                       'Dark - No Street Lights', 'Other',\n",
    "                                       'Dark - Street Lights Off',\n",
    "                                       'Dark - Unknown Lighting'],\n",
    "                           value='Dark',\n",
    "                           inplace=True)"
   ]
  },
  {
   "cell_type": "code",
   "execution_count": 45,
   "metadata": {
    "ExecuteTime": {
     "end_time": "2020-11-01T18:59:03.548277Z",
     "start_time": "2020-11-01T18:59:03.517043Z"
    }
   },
   "outputs": [],
   "source": [
    "df_clean.LIGHTCOND.replace(to_replace=['NA', 'Unknown'], value='Daylight',\n",
    "                           inplace=True)"
   ]
  },
  {
   "cell_type": "markdown",
   "metadata": {},
   "source": [
    "##sdot_colcode"
   ]
  },
  {
   "cell_type": "code",
   "execution_count": 46,
   "metadata": {
    "ExecuteTime": {
     "end_time": "2020-11-01T18:59:03.764438Z",
     "start_time": "2020-11-01T18:59:03.548277Z"
    }
   },
   "outputs": [
    {
     "data": {
      "text/html": [
       "<div>\n",
       "<style scoped>\n",
       "    .dataframe tbody tr th:only-of-type {\n",
       "        vertical-align: middle;\n",
       "    }\n",
       "\n",
       "    .dataframe tbody tr th {\n",
       "        vertical-align: top;\n",
       "    }\n",
       "\n",
       "    .dataframe thead th {\n",
       "        text-align: right;\n",
       "    }\n",
       "</style>\n",
       "<table border=\"1\" class=\"dataframe\">\n",
       "  <thead>\n",
       "    <tr style=\"text-align: right;\">\n",
       "      <th></th>\n",
       "      <th>freq</th>\n",
       "    </tr>\n",
       "  </thead>\n",
       "  <tbody>\n",
       "    <tr>\n",
       "      <th>11</th>\n",
       "      <td>43.770</td>\n",
       "    </tr>\n",
       "    <tr>\n",
       "      <th>16</th>\n",
       "      <td>5.100</td>\n",
       "    </tr>\n",
       "    <tr>\n",
       "      <th>14</th>\n",
       "      <td>27.892</td>\n",
       "    </tr>\n",
       "    <tr>\n",
       "      <th>51</th>\n",
       "      <td>0.674</td>\n",
       "    </tr>\n",
       "    <tr>\n",
       "      <th>13</th>\n",
       "      <td>3.006</td>\n",
       "    </tr>\n",
       "    <tr>\n",
       "      <th>26</th>\n",
       "      <td>2.435</td>\n",
       "    </tr>\n",
       "    <tr>\n",
       "      <th>28</th>\n",
       "      <td>4.549</td>\n",
       "    </tr>\n",
       "    <tr>\n",
       "      <th>18</th>\n",
       "      <td>1.594</td>\n",
       "    </tr>\n",
       "    <tr>\n",
       "      <th>34</th>\n",
       "      <td>0.048</td>\n",
       "    </tr>\n",
       "    <tr>\n",
       "      <th>0</th>\n",
       "      <td>5.027</td>\n",
       "    </tr>\n",
       "    <tr>\n",
       "      <th>24</th>\n",
       "      <td>3.348</td>\n",
       "    </tr>\n",
       "    <tr>\n",
       "      <th>69</th>\n",
       "      <td>0.035</td>\n",
       "    </tr>\n",
       "    <tr>\n",
       "      <th>12</th>\n",
       "      <td>0.740</td>\n",
       "    </tr>\n",
       "    <tr>\n",
       "      <th>21</th>\n",
       "      <td>0.093</td>\n",
       "    </tr>\n",
       "    <tr>\n",
       "      <th>23</th>\n",
       "      <td>0.064</td>\n",
       "    </tr>\n",
       "    <tr>\n",
       "      <th>29</th>\n",
       "      <td>0.246</td>\n",
       "    </tr>\n",
       "    <tr>\n",
       "      <th>27</th>\n",
       "      <td>0.085</td>\n",
       "    </tr>\n",
       "    <tr>\n",
       "      <th>48</th>\n",
       "      <td>0.055</td>\n",
       "    </tr>\n",
       "    <tr>\n",
       "      <th>15</th>\n",
       "      <td>0.824</td>\n",
       "    </tr>\n",
       "    <tr>\n",
       "      <th>55</th>\n",
       "      <td>0.026</td>\n",
       "    </tr>\n",
       "    <tr>\n",
       "      <th>33</th>\n",
       "      <td>0.027</td>\n",
       "    </tr>\n",
       "    <tr>\n",
       "      <th>56</th>\n",
       "      <td>0.092</td>\n",
       "    </tr>\n",
       "    <tr>\n",
       "      <th>54</th>\n",
       "      <td>0.071</td>\n",
       "    </tr>\n",
       "    <tr>\n",
       "      <th>31</th>\n",
       "      <td>0.053</td>\n",
       "    </tr>\n",
       "    <tr>\n",
       "      <th>44</th>\n",
       "      <td>0.004</td>\n",
       "    </tr>\n",
       "    <tr>\n",
       "      <th>32</th>\n",
       "      <td>0.006</td>\n",
       "    </tr>\n",
       "    <tr>\n",
       "      <th>25</th>\n",
       "      <td>0.052</td>\n",
       "    </tr>\n",
       "    <tr>\n",
       "      <th>66</th>\n",
       "      <td>0.012</td>\n",
       "    </tr>\n",
       "    <tr>\n",
       "      <th>36</th>\n",
       "      <td>0.002</td>\n",
       "    </tr>\n",
       "    <tr>\n",
       "      <th>64</th>\n",
       "      <td>0.039</td>\n",
       "    </tr>\n",
       "    <tr>\n",
       "      <th>22</th>\n",
       "      <td>0.009</td>\n",
       "    </tr>\n",
       "    <tr>\n",
       "      <th>58</th>\n",
       "      <td>0.003</td>\n",
       "    </tr>\n",
       "    <tr>\n",
       "      <th>47</th>\n",
       "      <td>0.001</td>\n",
       "    </tr>\n",
       "    <tr>\n",
       "      <th>61</th>\n",
       "      <td>0.004</td>\n",
       "    </tr>\n",
       "    <tr>\n",
       "      <th>35</th>\n",
       "      <td>0.003</td>\n",
       "    </tr>\n",
       "    <tr>\n",
       "      <th>53</th>\n",
       "      <td>0.005</td>\n",
       "    </tr>\n",
       "    <tr>\n",
       "      <th>46</th>\n",
       "      <td>0.002</td>\n",
       "    </tr>\n",
       "    <tr>\n",
       "      <th>68</th>\n",
       "      <td>0.002</td>\n",
       "    </tr>\n",
       "    <tr>\n",
       "      <th>52</th>\n",
       "      <td>0.001</td>\n",
       "    </tr>\n",
       "  </tbody>\n",
       "</table>\n",
       "</div>"
      ],
      "text/plain": [
       "      freq\n",
       "11  43.770\n",
       "16   5.100\n",
       "14  27.892\n",
       "51   0.674\n",
       "13   3.006\n",
       "26   2.435\n",
       "28   4.549\n",
       "18   1.594\n",
       "34   0.048\n",
       "0    5.027\n",
       "24   3.348\n",
       "69   0.035\n",
       "12   0.740\n",
       "21   0.093\n",
       "23   0.064\n",
       "29   0.246\n",
       "27   0.085\n",
       "48   0.055\n",
       "15   0.824\n",
       "55   0.026\n",
       "33   0.027\n",
       "56   0.092\n",
       "54   0.071\n",
       "31   0.053\n",
       "44   0.004\n",
       "32   0.006\n",
       "25   0.052\n",
       "66   0.012\n",
       "36   0.002\n",
       "64   0.039\n",
       "22   0.009\n",
       "58   0.003\n",
       "47   0.001\n",
       "61   0.004\n",
       "35   0.003\n",
       "53   0.005\n",
       "46   0.002\n",
       "68   0.002\n",
       "52   0.001"
      ]
     },
     "execution_count": 46,
     "metadata": {},
     "output_type": "execute_result"
    }
   ],
   "source": [
    "get_frequency(df_clean, 'SDOT_COLCODE')"
   ]
  },
  {
   "cell_type": "code",
   "execution_count": 47,
   "metadata": {
    "ExecuteTime": {
     "end_time": "2020-11-01T18:59:04.397284Z",
     "start_time": "2020-11-01T18:59:03.764438Z"
    }
   },
   "outputs": [
    {
     "data": {
      "text/html": [
       "<div>\n",
       "<style scoped>\n",
       "    .dataframe tbody tr th:only-of-type {\n",
       "        vertical-align: middle;\n",
       "    }\n",
       "\n",
       "    .dataframe tbody tr th {\n",
       "        vertical-align: top;\n",
       "    }\n",
       "\n",
       "    .dataframe thead tr th {\n",
       "        text-align: left;\n",
       "    }\n",
       "\n",
       "    .dataframe thead tr:last-of-type th {\n",
       "        text-align: right;\n",
       "    }\n",
       "</style>\n",
       "<table border=\"1\" class=\"dataframe\">\n",
       "  <thead>\n",
       "    <tr>\n",
       "      <th></th>\n",
       "      <th colspan=\"39\" halign=\"left\">count</th>\n",
       "    </tr>\n",
       "    <tr>\n",
       "      <th>SDOT_COLCODE</th>\n",
       "      <th>0</th>\n",
       "      <th>11</th>\n",
       "      <th>12</th>\n",
       "      <th>13</th>\n",
       "      <th>14</th>\n",
       "      <th>15</th>\n",
       "      <th>16</th>\n",
       "      <th>18</th>\n",
       "      <th>21</th>\n",
       "      <th>22</th>\n",
       "      <th>23</th>\n",
       "      <th>24</th>\n",
       "      <th>25</th>\n",
       "      <th>26</th>\n",
       "      <th>27</th>\n",
       "      <th>28</th>\n",
       "      <th>29</th>\n",
       "      <th>31</th>\n",
       "      <th>32</th>\n",
       "      <th>33</th>\n",
       "      <th>34</th>\n",
       "      <th>35</th>\n",
       "      <th>36</th>\n",
       "      <th>44</th>\n",
       "      <th>46</th>\n",
       "      <th>47</th>\n",
       "      <th>48</th>\n",
       "      <th>51</th>\n",
       "      <th>52</th>\n",
       "      <th>53</th>\n",
       "      <th>54</th>\n",
       "      <th>55</th>\n",
       "      <th>56</th>\n",
       "      <th>58</th>\n",
       "      <th>61</th>\n",
       "      <th>64</th>\n",
       "      <th>66</th>\n",
       "      <th>68</th>\n",
       "      <th>69</th>\n",
       "    </tr>\n",
       "    <tr>\n",
       "      <th>SEVERITYCODE</th>\n",
       "      <th></th>\n",
       "      <th></th>\n",
       "      <th></th>\n",
       "      <th></th>\n",
       "      <th></th>\n",
       "      <th></th>\n",
       "      <th></th>\n",
       "      <th></th>\n",
       "      <th></th>\n",
       "      <th></th>\n",
       "      <th></th>\n",
       "      <th></th>\n",
       "      <th></th>\n",
       "      <th></th>\n",
       "      <th></th>\n",
       "      <th></th>\n",
       "      <th></th>\n",
       "      <th></th>\n",
       "      <th></th>\n",
       "      <th></th>\n",
       "      <th></th>\n",
       "      <th></th>\n",
       "      <th></th>\n",
       "      <th></th>\n",
       "      <th></th>\n",
       "      <th></th>\n",
       "      <th></th>\n",
       "      <th></th>\n",
       "      <th></th>\n",
       "      <th></th>\n",
       "      <th></th>\n",
       "      <th></th>\n",
       "      <th></th>\n",
       "      <th></th>\n",
       "      <th></th>\n",
       "      <th></th>\n",
       "      <th></th>\n",
       "      <th></th>\n",
       "      <th></th>\n",
       "    </tr>\n",
       "  </thead>\n",
       "  <tbody>\n",
       "    <tr>\n",
       "      <th>1</th>\n",
       "      <td>9079.0</td>\n",
       "      <td>60871.0</td>\n",
       "      <td>1413.0</td>\n",
       "      <td>5653.0</td>\n",
       "      <td>36551.0</td>\n",
       "      <td>1529.0</td>\n",
       "      <td>9236.0</td>\n",
       "      <td>370.0</td>\n",
       "      <td>41.0</td>\n",
       "      <td>1.0</td>\n",
       "      <td>31.0</td>\n",
       "      <td>665.0</td>\n",
       "      <td>82.0</td>\n",
       "      <td>3568.0</td>\n",
       "      <td>130.0</td>\n",
       "      <td>6574.0</td>\n",
       "      <td>118.0</td>\n",
       "      <td>97.0</td>\n",
       "      <td>11.0</td>\n",
       "      <td>51.0</td>\n",
       "      <td>84.0</td>\n",
       "      <td>5.0</td>\n",
       "      <td>3.0</td>\n",
       "      <td>NaN</td>\n",
       "      <td>3.0</td>\n",
       "      <td>1.0</td>\n",
       "      <td>96.0</td>\n",
       "      <td>152.0</td>\n",
       "      <td>1.0</td>\n",
       "      <td>2.0</td>\n",
       "      <td>32.0</td>\n",
       "      <td>10.0</td>\n",
       "      <td>19.0</td>\n",
       "      <td>NaN</td>\n",
       "      <td>NaN</td>\n",
       "      <td>3.0</td>\n",
       "      <td>1.0</td>\n",
       "      <td>1.0</td>\n",
       "      <td>1.0</td>\n",
       "    </tr>\n",
       "    <tr>\n",
       "      <th>2</th>\n",
       "      <td>708.0</td>\n",
       "      <td>24338.0</td>\n",
       "      <td>27.0</td>\n",
       "      <td>199.0</td>\n",
       "      <td>17748.0</td>\n",
       "      <td>75.0</td>\n",
       "      <td>692.0</td>\n",
       "      <td>2734.0</td>\n",
       "      <td>140.0</td>\n",
       "      <td>16.0</td>\n",
       "      <td>93.0</td>\n",
       "      <td>5853.0</td>\n",
       "      <td>20.0</td>\n",
       "      <td>1173.0</td>\n",
       "      <td>36.0</td>\n",
       "      <td>2282.0</td>\n",
       "      <td>361.0</td>\n",
       "      <td>7.0</td>\n",
       "      <td>1.0</td>\n",
       "      <td>2.0</td>\n",
       "      <td>9.0</td>\n",
       "      <td>1.0</td>\n",
       "      <td>1.0</td>\n",
       "      <td>8.0</td>\n",
       "      <td>NaN</td>\n",
       "      <td>NaN</td>\n",
       "      <td>11.0</td>\n",
       "      <td>1160.0</td>\n",
       "      <td>1.0</td>\n",
       "      <td>7.0</td>\n",
       "      <td>107.0</td>\n",
       "      <td>40.0</td>\n",
       "      <td>161.0</td>\n",
       "      <td>5.0</td>\n",
       "      <td>7.0</td>\n",
       "      <td>72.0</td>\n",
       "      <td>22.0</td>\n",
       "      <td>3.0</td>\n",
       "      <td>68.0</td>\n",
       "    </tr>\n",
       "  </tbody>\n",
       "</table>\n",
       "</div>"
      ],
      "text/plain": [
       "               count                                                    \\\n",
       "SDOT_COLCODE      0        11      12      13       14      15      16   \n",
       "SEVERITYCODE                                                             \n",
       "1             9079.0  60871.0  1413.0  5653.0  36551.0  1529.0  9236.0   \n",
       "2              708.0  24338.0    27.0   199.0  17748.0    75.0   692.0   \n",
       "\n",
       "                                                                              \\\n",
       "SDOT_COLCODE      18     21    22    23      24    25      26     27      28   \n",
       "SEVERITYCODE                                                                   \n",
       "1              370.0   41.0   1.0  31.0   665.0  82.0  3568.0  130.0  6574.0   \n",
       "2             2734.0  140.0  16.0  93.0  5853.0  20.0  1173.0   36.0  2282.0   \n",
       "\n",
       "                                                                            \\\n",
       "SDOT_COLCODE     29    31    32    33    34   35   36   44   46   47    48   \n",
       "SEVERITYCODE                                                                 \n",
       "1             118.0  97.0  11.0  51.0  84.0  5.0  3.0  NaN  3.0  1.0  96.0   \n",
       "2             361.0   7.0   1.0   2.0   9.0  1.0  1.0  8.0  NaN  NaN  11.0   \n",
       "\n",
       "                                                                               \\\n",
       "SDOT_COLCODE      51   52   53     54    55     56   58   61    64    66   68   \n",
       "SEVERITYCODE                                                                    \n",
       "1              152.0  1.0  2.0   32.0  10.0   19.0  NaN  NaN   3.0   1.0  1.0   \n",
       "2             1160.0  1.0  7.0  107.0  40.0  161.0  5.0  7.0  72.0  22.0  3.0   \n",
       "\n",
       "                    \n",
       "SDOT_COLCODE    69  \n",
       "SEVERITYCODE        \n",
       "1              1.0  \n",
       "2             68.0  "
      ]
     },
     "execution_count": 47,
     "metadata": {},
     "output_type": "execute_result"
    },
    {
     "data": {
      "image/png": "[encoded data removed]",
      "text/plain": [
       "<Figure size 432x288 with 1 Axes>"
      ]
     },
     "metadata": {
      "needs_background": "light"
     },
     "output_type": "display_data"
    }
   ],
   "source": [
    "get_summary(df_clean, 'SDOT_COLCODE')"
   ]
  },
  {
   "cell_type": "code",
   "execution_count": 48,
   "metadata": {
    "ExecuteTime": {
     "end_time": "2020-11-01T18:59:04.419433Z",
     "start_time": "2020-11-01T18:59:04.397284Z"
    },
    "scrolled": true
   },
   "outputs": [],
   "source": [
    "sdot_injury = [18, 21, 22, 23, 24, 29, 44, 51,\n",
    "               54, 55, 56, 58, 61, 64, 66, 68, 69]\n",
    "sdot_property = [code for code in df_clean.SDOT_COLCODE.unique() if code not in sdot_injury]"
   ]
  },
  {
   "cell_type": "code",
   "execution_count": 49,
   "metadata": {
    "ExecuteTime": {
     "end_time": "2020-11-01T18:59:04.566580Z",
     "start_time": "2020-11-01T18:59:04.419433Z"
    }
   },
   "outputs": [],
   "source": [
    "df_clean.SDOT_COLCODE.replace(to_replace=sdot_injury, value='sdot_injury', inplace=True)\n",
    "df_clean.SDOT_COLCODE.replace(to_replace=sdot_property, value='sdot_property', inplace=True)"
   ]
  },
  {
   "cell_type": "code",
   "execution_count": 50,
   "metadata": {
    "ExecuteTime": {
     "end_time": "2020-11-01T18:59:04.867408Z",
     "start_time": "2020-11-01T18:59:04.566580Z"
    },
    "scrolled": false
   },
   "outputs": [
    {
     "data": {
      "text/html": [
       "<div>\n",
       "<style scoped>\n",
       "    .dataframe tbody tr th:only-of-type {\n",
       "        vertical-align: middle;\n",
       "    }\n",
       "\n",
       "    .dataframe tbody tr th {\n",
       "        vertical-align: top;\n",
       "    }\n",
       "\n",
       "    .dataframe thead th {\n",
       "        text-align: right;\n",
       "    }\n",
       "</style>\n",
       "<table border=\"1\" class=\"dataframe\">\n",
       "  <thead>\n",
       "    <tr style=\"text-align: right;\">\n",
       "      <th></th>\n",
       "      <th>freq</th>\n",
       "    </tr>\n",
       "  </thead>\n",
       "  <tbody>\n",
       "    <tr>\n",
       "      <th>sdot_property</th>\n",
       "      <td>93.684</td>\n",
       "    </tr>\n",
       "    <tr>\n",
       "      <th>sdot_injury</th>\n",
       "      <td>6.316</td>\n",
       "    </tr>\n",
       "  </tbody>\n",
       "</table>\n",
       "</div>"
      ],
      "text/plain": [
       "                 freq\n",
       "sdot_property  93.684\n",
       "sdot_injury     6.316"
      ]
     },
     "execution_count": 50,
     "metadata": {},
     "output_type": "execute_result"
    }
   ],
   "source": [
    "get_frequency(df_clean, 'SDOT_COLCODE')"
   ]
  },
  {
   "cell_type": "markdown",
   "metadata": {},
   "source": [
    "### Binary Variables"
   ]
  },
  {
   "cell_type": "code",
   "execution_count": 51,
   "metadata": {
    "ExecuteTime": {
     "end_time": "2020-11-01T18:59:05.284110Z",
     "start_time": "2020-11-01T18:59:04.867408Z"
    }
   },
   "outputs": [],
   "source": [
    "df_clean.SEVERITYCODE = np.where(df_clean.SEVERITYCODE == 1, 0 , 1)\n",
    "df_clean.STATUS = np.where(df_clean.STATUS == 'Matched', 0, 1)\n",
    "df_clean.INTKEY = np.where(df_clean.INTKEY == 'NA', 0, 1)\n",
    "df_clean.INATTENTIONIND = np.where(df_clean.INATTENTIONIND == 'Y', 1, 0)\n",
    "df_clean.UNDERINFL.replace(to_replace=['N', '0', 'Y', '1'], value=[0, 0, 1, 1],\n",
    "                           inplace=True)\n",
    "df_clean.PEDROWNOTGRNT = np.where(df_clean.PEDROWNOTGRNT == 'Y', 1, 0)\n",
    "df_clean.SPEEDING = np.where(df_clean.SPEEDING == 'Y', 1, 0)\n",
    "df_clean.SEGLANEKEY = np.where(df_clean.SEGLANEKEY == 0, 0, 1)\n",
    "df_clean.CROSSWALKKEY = np.where(df_clean.CROSSWALKKEY == 0, 0, 1)\n",
    "df_clean.HITPARKEDCAR = np.where(df_clean.HITPARKEDCAR == 'Y', 1, 0)"
   ]
  },
  {
   "cell_type": "markdown",
   "metadata": {},
   "source": [
    "# Exploratory Data Analysis"
   ]
  },
  {
   "cell_type": "code",
   "execution_count": 52,
   "metadata": {
    "ExecuteTime": {
     "end_time": "2020-11-01T18:59:05.337501Z",
     "start_time": "2020-11-01T18:59:05.284110Z"
    },
    "scrolled": false
   },
   "outputs": [
    {
     "data": {
      "text/html": [
       "<div>\n",
       "<style scoped>\n",
       "    .dataframe tbody tr th:only-of-type {\n",
       "        vertical-align: middle;\n",
       "    }\n",
       "\n",
       "    .dataframe tbody tr th {\n",
       "        vertical-align: top;\n",
       "    }\n",
       "\n",
       "    .dataframe thead th {\n",
       "        text-align: right;\n",
       "    }\n",
       "</style>\n",
       "<table border=\"1\" class=\"dataframe\">\n",
       "  <thead>\n",
       "    <tr style=\"text-align: right;\">\n",
       "      <th></th>\n",
       "      <th>SEVERITYCODE</th>\n",
       "      <th>X</th>\n",
       "      <th>Y</th>\n",
       "      <th>STATUS</th>\n",
       "      <th>ADDRTYPE</th>\n",
       "      <th>INTKEY</th>\n",
       "      <th>LOCATION</th>\n",
       "      <th>COLLISIONTYPE</th>\n",
       "      <th>PERSONCOUNT</th>\n",
       "      <th>PEDCOUNT</th>\n",
       "      <th>PEDCYLCOUNT</th>\n",
       "      <th>VEHCOUNT</th>\n",
       "      <th>INCDTTM</th>\n",
       "      <th>JUNCTIONTYPE</th>\n",
       "      <th>SDOT_COLCODE</th>\n",
       "      <th>SDOT_COLDESC</th>\n",
       "      <th>INATTENTIONIND</th>\n",
       "      <th>UNDERINFL</th>\n",
       "      <th>WEATHER</th>\n",
       "      <th>ROADCOND</th>\n",
       "      <th>LIGHTCOND</th>\n",
       "      <th>PEDROWNOTGRNT</th>\n",
       "      <th>SPEEDING</th>\n",
       "      <th>ST_COLDESC</th>\n",
       "      <th>SEGLANEKEY</th>\n",
       "      <th>CROSSWALKKEY</th>\n",
       "      <th>HITPARKEDCAR</th>\n",
       "    </tr>\n",
       "  </thead>\n",
       "  <tbody>\n",
       "    <tr>\n",
       "      <th>0</th>\n",
       "      <td>1</td>\n",
       "      <td>-122.323</td>\n",
       "      <td>47.7031</td>\n",
       "      <td>0</td>\n",
       "      <td>Intersection</td>\n",
       "      <td>1</td>\n",
       "      <td>5TH AVE NE AND NE 103RD ST</td>\n",
       "      <td>Angles</td>\n",
       "      <td>2</td>\n",
       "      <td>0</td>\n",
       "      <td>0</td>\n",
       "      <td>2</td>\n",
       "      <td>3/27/2013 2:54:00 PM</td>\n",
       "      <td>At Intersection (intersection related)</td>\n",
       "      <td>sdot_property</td>\n",
       "      <td>MOTOR VEHICLE STRUCK MOTOR VEHICLE, FRONT END ...</td>\n",
       "      <td>0</td>\n",
       "      <td>0</td>\n",
       "      <td>Overcast</td>\n",
       "      <td>Wet</td>\n",
       "      <td>Daylight</td>\n",
       "      <td>0</td>\n",
       "      <td>0</td>\n",
       "      <td>Entering at angle</td>\n",
       "      <td>0</td>\n",
       "      <td>0</td>\n",
       "      <td>0</td>\n",
       "    </tr>\n",
       "    <tr>\n",
       "      <th>1</th>\n",
       "      <td>0</td>\n",
       "      <td>-122.347</td>\n",
       "      <td>47.6472</td>\n",
       "      <td>0</td>\n",
       "      <td>Block</td>\n",
       "      <td>0</td>\n",
       "      <td>AURORA BR BETWEEN RAYE ST AND BRIDGE WAY N</td>\n",
       "      <td>Sideswipe</td>\n",
       "      <td>2</td>\n",
       "      <td>0</td>\n",
       "      <td>0</td>\n",
       "      <td>2</td>\n",
       "      <td>12/20/2006 6:55:00 PM</td>\n",
       "      <td>Mid-Block (not related to intersection)</td>\n",
       "      <td>sdot_property</td>\n",
       "      <td>MOTOR VEHICLE STRUCK MOTOR VEHICLE, LEFT SIDE ...</td>\n",
       "      <td>0</td>\n",
       "      <td>0</td>\n",
       "      <td>Raining</td>\n",
       "      <td>Wet</td>\n",
       "      <td>Dark</td>\n",
       "      <td>0</td>\n",
       "      <td>0</td>\n",
       "      <td>From same direction - both going straight - bo...</td>\n",
       "      <td>0</td>\n",
       "      <td>0</td>\n",
       "      <td>0</td>\n",
       "    </tr>\n",
       "    <tr>\n",
       "      <th>2</th>\n",
       "      <td>0</td>\n",
       "      <td>-122.335</td>\n",
       "      <td>47.6079</td>\n",
       "      <td>0</td>\n",
       "      <td>Block</td>\n",
       "      <td>0</td>\n",
       "      <td>4TH AVE BETWEEN SENECA ST AND UNIVERSITY ST</td>\n",
       "      <td>Parked Car</td>\n",
       "      <td>4</td>\n",
       "      <td>0</td>\n",
       "      <td>0</td>\n",
       "      <td>3</td>\n",
       "      <td>11/18/2004 10:20:00 AM</td>\n",
       "      <td>Mid-Block (not related to intersection)</td>\n",
       "      <td>sdot_property</td>\n",
       "      <td>MOTOR VEHICLE STRUCK MOTOR VEHICLE, REAR END</td>\n",
       "      <td>0</td>\n",
       "      <td>0</td>\n",
       "      <td>Overcast</td>\n",
       "      <td>Dry</td>\n",
       "      <td>Daylight</td>\n",
       "      <td>0</td>\n",
       "      <td>0</td>\n",
       "      <td>One parked--one moving</td>\n",
       "      <td>0</td>\n",
       "      <td>0</td>\n",
       "      <td>0</td>\n",
       "    </tr>\n",
       "    <tr>\n",
       "      <th>3</th>\n",
       "      <td>0</td>\n",
       "      <td>-122.335</td>\n",
       "      <td>47.6048</td>\n",
       "      <td>0</td>\n",
       "      <td>Block</td>\n",
       "      <td>0</td>\n",
       "      <td>2ND AVE BETWEEN MARION ST AND MADISON ST</td>\n",
       "      <td>Other</td>\n",
       "      <td>3</td>\n",
       "      <td>0</td>\n",
       "      <td>0</td>\n",
       "      <td>3</td>\n",
       "      <td>3/29/2013 9:26:00 AM</td>\n",
       "      <td>Mid-Block (not related to intersection)</td>\n",
       "      <td>sdot_property</td>\n",
       "      <td>MOTOR VEHICLE STRUCK MOTOR VEHICLE, FRONT END ...</td>\n",
       "      <td>0</td>\n",
       "      <td>0</td>\n",
       "      <td>Clear</td>\n",
       "      <td>Dry</td>\n",
       "      <td>Daylight</td>\n",
       "      <td>0</td>\n",
       "      <td>0</td>\n",
       "      <td>From same direction - all others</td>\n",
       "      <td>0</td>\n",
       "      <td>0</td>\n",
       "      <td>0</td>\n",
       "    </tr>\n",
       "    <tr>\n",
       "      <th>4</th>\n",
       "      <td>1</td>\n",
       "      <td>-122.306</td>\n",
       "      <td>47.5457</td>\n",
       "      <td>0</td>\n",
       "      <td>Intersection</td>\n",
       "      <td>1</td>\n",
       "      <td>SWIFT AVE S AND SWIFT AV OFF RP</td>\n",
       "      <td>Angles</td>\n",
       "      <td>2</td>\n",
       "      <td>0</td>\n",
       "      <td>0</td>\n",
       "      <td>2</td>\n",
       "      <td>1/28/2004 8:04:00 AM</td>\n",
       "      <td>At Intersection (intersection related)</td>\n",
       "      <td>sdot_property</td>\n",
       "      <td>MOTOR VEHICLE STRUCK MOTOR VEHICLE, FRONT END ...</td>\n",
       "      <td>0</td>\n",
       "      <td>0</td>\n",
       "      <td>Raining</td>\n",
       "      <td>Wet</td>\n",
       "      <td>Daylight</td>\n",
       "      <td>0</td>\n",
       "      <td>0</td>\n",
       "      <td>Entering at angle</td>\n",
       "      <td>0</td>\n",
       "      <td>0</td>\n",
       "      <td>0</td>\n",
       "    </tr>\n",
       "  </tbody>\n",
       "</table>\n",
       "</div>"
      ],
      "text/plain": [
       "   SEVERITYCODE        X        Y  STATUS      ADDRTYPE  INTKEY  \\\n",
       "0             1 -122.323  47.7031       0  Intersection       1   \n",
       "1             0 -122.347  47.6472       0         Block       0   \n",
       "2             0 -122.335  47.6079       0         Block       0   \n",
       "3             0 -122.335  47.6048       0         Block       0   \n",
       "4             1 -122.306  47.5457       0  Intersection       1   \n",
       "\n",
       "                                      LOCATION COLLISIONTYPE  PERSONCOUNT  \\\n",
       "0                   5TH AVE NE AND NE 103RD ST        Angles            2   \n",
       "1   AURORA BR BETWEEN RAYE ST AND BRIDGE WAY N     Sideswipe            2   \n",
       "2  4TH AVE BETWEEN SENECA ST AND UNIVERSITY ST    Parked Car            4   \n",
       "3     2ND AVE BETWEEN MARION ST AND MADISON ST         Other            3   \n",
       "4              SWIFT AVE S AND SWIFT AV OFF RP        Angles            2   \n",
       "\n",
       "   PEDCOUNT  PEDCYLCOUNT  VEHCOUNT                 INCDTTM  \\\n",
       "0         0            0         2    3/27/2013 2:54:00 PM   \n",
       "1         0            0         2   12/20/2006 6:55:00 PM   \n",
       "2         0            0         3  11/18/2004 10:20:00 AM   \n",
       "3         0            0         3    3/29/2013 9:26:00 AM   \n",
       "4         0            0         2    1/28/2004 8:04:00 AM   \n",
       "\n",
       "                              JUNCTIONTYPE   SDOT_COLCODE  \\\n",
       "0   At Intersection (intersection related)  sdot_property   \n",
       "1  Mid-Block (not related to intersection)  sdot_property   \n",
       "2  Mid-Block (not related to intersection)  sdot_property   \n",
       "3  Mid-Block (not related to intersection)  sdot_property   \n",
       "4   At Intersection (intersection related)  sdot_property   \n",
       "\n",
       "                                        SDOT_COLDESC  INATTENTIONIND  \\\n",
       "0  MOTOR VEHICLE STRUCK MOTOR VEHICLE, FRONT END ...               0   \n",
       "1  MOTOR VEHICLE STRUCK MOTOR VEHICLE, LEFT SIDE ...               0   \n",
       "2       MOTOR VEHICLE STRUCK MOTOR VEHICLE, REAR END               0   \n",
       "3  MOTOR VEHICLE STRUCK MOTOR VEHICLE, FRONT END ...               0   \n",
       "4  MOTOR VEHICLE STRUCK MOTOR VEHICLE, FRONT END ...               0   \n",
       "\n",
       "  UNDERINFL   WEATHER ROADCOND LIGHTCOND  PEDROWNOTGRNT  SPEEDING  \\\n",
       "0         0  Overcast      Wet  Daylight              0         0   \n",
       "1         0   Raining      Wet      Dark              0         0   \n",
       "2         0  Overcast      Dry  Daylight              0         0   \n",
       "3         0     Clear      Dry  Daylight              0         0   \n",
       "4         0   Raining      Wet  Daylight              0         0   \n",
       "\n",
       "                                          ST_COLDESC  SEGLANEKEY  \\\n",
       "0                                  Entering at angle           0   \n",
       "1  From same direction - both going straight - bo...           0   \n",
       "2                             One parked--one moving           0   \n",
       "3                   From same direction - all others           0   \n",
       "4                                  Entering at angle           0   \n",
       "\n",
       "   CROSSWALKKEY  HITPARKEDCAR  \n",
       "0             0             0  \n",
       "1             0             0  \n",
       "2             0             0  \n",
       "3             0             0  \n",
       "4             0             0  "
      ]
     },
     "execution_count": 52,
     "metadata": {},
     "output_type": "execute_result"
    }
   ],
   "source": [
    "df_clean.head()"
   ]
  },
  {
   "cell_type": "code",
   "execution_count": 92,
   "metadata": {
    "ExecuteTime": {
     "end_time": "2020-11-01T21:50:16.067920Z",
     "start_time": "2020-11-01T21:50:16.045783Z"
    }
   },
   "outputs": [],
   "source": [
    "def bar_plot(counts, labels, title, color):\n",
    "    n = len(counts)\n",
    "    fig, ax = plt.subplots(figsize=(12, 8), dpi=200)\n",
    "    bars = ax.bar(range(n), counts, color=color)  # bar plot\n",
    "    ax.set_ylabel('Count', labelpad=10)  # lable on y-axis (on the left)\n",
    "    ax.set_xticks(range(n))  # sets the number of ticks on the x-axis\n",
    "    # sets the label of the ticks on the x-axis\n",
    "    ax.set_xticklabels(labels)\n",
    "    ax.set_ylim(0, 145000)\n",
    "    # adjust the gap between the tickers on the y-axis on the left\n",
    "    ax.yaxis.set_major_locator(ticker.MultipleLocator(20000))\n",
    "    ax.set_title(title, size=14, pad=10)  # set the title\n",
    "    ax2 = ax.twinx()  # puts another y-axis on the right\n",
    "    ax2.set_ylabel('Frequency (%)')  # label on the y-axis (on the right)\n",
    "    ax2.set_ylim(0, 104)  # set the range to be shown on the y-axis\n",
    "    # adjust the gap between the tickers on the y-axis on the right\n",
    "    ax2.yaxis.set_major_locator(ticker.MultipleLocator(10))\n",
    "    # selects each bar in the figure and gets height and width of the bars\n",
    "    # use those to place the counts of each class on the bars\n",
    "    for bar, count in zip(bars, counts):\n",
    "        height = bar.get_height()\n",
    "        width = bar.get_width()\n",
    "        ax.text(bar.get_x() + width/2, height,\n",
    "                s='{:,}'.format(count),\n",
    "                ha='center', va='bottom')\n",
    "    plt.show()  # shows the plot"
   ]
  },
  {
   "cell_type": "code",
   "execution_count": 93,
   "metadata": {
    "ExecuteTime": {
     "end_time": "2020-11-01T21:50:19.038412Z",
     "start_time": "2020-11-01T21:50:18.621614Z"
    },
    "collapsed": true
   },
   "outputs": [
    {
     "data": {
      "image/png": "[encoded data removed]",
      "text/plain": [
       "<Figure size 2400x1600 with 2 Axes>"
      ]
     },
     "metadata": {
      "needs_background": "light"
     },
     "output_type": "display_data"
    }
   ],
   "source": [
    "counts = [df_clean[df_clean.SEVERITYCODE == 0].shape[0],\n",
    "          df_clean[df_clean.SEVERITYCODE == 1].shape[0]]\n",
    "labels = ['Property Damage', 'Injury']\n",
    "color=['steelblue', 'orange']\n",
    "title = 'Number of Property Damage vs Injury Collisions'\n",
    "bar_plot(counts, labels, title, color)"
   ]
  },
  {
   "cell_type": "code",
   "execution_count": 94,
   "metadata": {
    "ExecuteTime": {
     "end_time": "2020-11-01T21:50:23.416512Z",
     "start_time": "2020-11-01T21:50:22.730346Z"
    },
    "collapsed": true
   },
   "outputs": [
    {
     "data": {
      "image/png": "[encoded data removed]",
      "text/plain": [
       "<Figure size 2400x1600 with 2 Axes>"
      ]
     },
     "metadata": {
      "needs_background": "light"
     },
     "output_type": "display_data"
    }
   ],
   "source": [
    "counts = [df_clean[df_clean.ADDRTYPE == 'Intersection'].shape[0],\n",
    "          df_clean[df_clean.ADDRTYPE == 'Block'].shape[0]]\n",
    "labels = ['Intersection', 'Block']\n",
    "color = ['steelblue', 'orange']\n",
    "title = 'Number of Insersection vs Block Collisions'\n",
    "bar_plot(counts, labels, title, color)"
   ]
  },
  {
   "cell_type": "code",
   "execution_count": 103,
   "metadata": {
    "ExecuteTime": {
     "end_time": "2020-11-01T21:54:05.430539Z",
     "start_time": "2020-11-01T21:54:05.082890Z"
    },
    "collapsed": true
   },
   "outputs": [
    {
     "data": {
      "image/png": "[encoded data removed]",
      "text/plain": [
       "<Figure size 2400x1600 with 1 Axes>"
      ]
     },
     "metadata": {
      "needs_background": "light"
     },
     "output_type": "display_data"
    }
   ],
   "source": [
    "fig, ax = plt.subplots(figsize=(12, 8), dpi=200)\n",
    "temp = df_clean.groupby(['COLLISIONTYPE']).size().rename('count').to_frame()\n",
    "temp.sort_values('count', ascending=False).plot.bar(legend=False,ax=ax)\n",
    "ax.set_ylim(0, 62000)\n",
    "ax.set_title('Collision Types', pad=10)\n",
    "ax.set_xlabel('')\n",
    "plt.show()"
   ]
  },
  {
   "cell_type": "code",
   "execution_count": 127,
   "metadata": {
    "ExecuteTime": {
     "end_time": "2020-11-01T22:10:22.733387Z",
     "start_time": "2020-11-01T22:10:21.229423Z"
    }
   },
   "outputs": [
    {
     "data": {
      "image/png": "[encoded data removed]",
      "text/plain": [
       "<Figure size 2400x1600 with 4 Axes>"
      ]
     },
     "metadata": {
      "needs_background": "light"
     },
     "output_type": "display_data"
    }
   ],
   "source": [
    "fig, axes = plt.subplots(2, 2, figsize=(12, 8), dpi=200)\n",
    "axes = axes.flatten()\n",
    "for ax, x in zip(axes, ['PERSONCOUNT', 'PEDCOUNT', 'PEDCYLCOUNT', 'VEHCOUNT']):\n",
    "    temp = df_clean.groupby(x).size().rename('count').to_frame()\n",
    "    temp.sort_values('count', ascending=False).plot.bar(legend=False,ax=ax)\n",
    "    ax.set_ylim(0, 190000)\n",
    "    ax.set_xticklabels(temp.index, fontsize='x-small', rotation=90)\n",
    "    ax.set_xlabel('')\n",
    "    ax.set_title(x, pad=10)\n",
    "plt.tight_layout()\n",
    "plt.show()"
   ]
  },
  {
   "cell_type": "markdown",
   "metadata": {},
   "source": [
    "* These bar plots show us that the missing values for `PERSONCOUNT` and `VEHCOUNT` are coded as `0`. Since, it is not possible to have `0` person or vehicle in a collision.\n",
    "* The bar plots for `PEDCYLCOUNT` and `PEDCOUNT` are reasonable since it is not expected to have a "
   ]
  }
 ],
 "metadata": {
  "hide_input": false,
  "kernelspec": {
   "display_name": "Python 3",
   "language": "python",
   "name": "python3"
  },
  "language_info": {
   "codemirror_mode": {
    "name": "ipython",
    "version": 3
   },
   "file_extension": ".py",
   "mimetype": "text/x-python",
   "name": "python",
   "nbconvert_exporter": "python",
   "pygments_lexer": "ipython3",
   "version": "3.8.3"
  },
  "toc": {
   "base_numbering": 1,
   "nav_menu": {},
   "number_sections": true,
   "sideBar": true,
   "skip_h1_title": false,
   "title_cell": "Table of Contents",
   "title_sidebar": "Contents",
   "toc_cell": false,
   "toc_position": {},
   "toc_section_display": true,
   "toc_window_display": false
  },
  "varInspector": {
   "cols": {
    "lenName": 16,
    "lenType": 16,
    "lenVar": 40
   },
   "kernels_config": {
    "python": {
     "delete_cmd_postfix": "",
     "delete_cmd_prefix": "del ",
     "library": "var_list.py",
     "varRefreshCmd": "print(var_dic_list())"
    },
    "r": {
     "delete_cmd_postfix": ") ",
     "delete_cmd_prefix": "rm(",
     "library": "var_list.r",
     "varRefreshCmd": "cat(var_dic_list()) "
    }
   },
   "types_to_exclude": [
    "module",
    "function",
    "builtin_function_or_method",
    "instance",
    "_Feature"
   ],
   "window_display": false
  }
 },
 "nbformat": 4,
 "nbformat_minor": 4
}
